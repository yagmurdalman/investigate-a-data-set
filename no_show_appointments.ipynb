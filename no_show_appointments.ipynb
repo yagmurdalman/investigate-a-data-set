{
 "cells": [
  {
   "cell_type": "markdown",
   "metadata": {},
   "source": [
    "\n",
    "# Project: Investigate a Dataset - No Show Appointments\n",
    "\n",
    "## Table of Contents\n",
    "<ul>\n",
    "<li><a href=\"#intro\">Introduction</a></li>\n",
    "<li><a href=\"#wrangling\">Data Wrangling</a></li>\n",
    "<li><a href=\"#eda\">Exploratory Data Analysis</a></li>\n",
    "<li><a href=\"#conclusions\">Conclusions</a></li>\n",
    "</ul>"
   ]
  },
  {
   "cell_type": "markdown",
   "metadata": {},
   "source": [
    "<a id='intro'></a>\n",
    "## Introduction\n",
    "This dataset collects information from 100k medical appointments in Brazil and is focused on the question of whether or not patients show up for their appointment. A number of characteristics about the patient are included in each row. These are age, gender, health problems like diabetes, hypertension, alchoholism and number of handicaps the patients have. There is also information about the day the patient set up their appointment - ScheduledDay, the day patient called or registered the appointment - AppointmentDay, where the appointment takes place - Neighbourhood, whether or not the patient is enrolled in Brasilian welfare program Bolsa Família - Scholarship, whether or not the patient recieved an SMS as a reminder - SMS_recieved.\n",
    "I consider No-show as a dependent variable which provides the information about whether the patient showed up or not showed up the appointment. Age, Gender, Scholarship, Handicap, Diabetes, Hypertension, Alchoholism, SMS_received, Elapsed_time are the independent variables I use in this analysis.\n",
    "\n",
    "Questions to be analyzed:\n",
    "1. What is the relationship between age and showing up behavior?\n",
    "2. What is the relationship between showing up and gender?\n",
    "3. How are recieving SMS and showing up related?\n",
    "4. How does recieving SMS affect showing up behavior based on gender?\n",
    "5. What is the relationship between showing up and handicap levels?\n",
    "6. How does enrolling in Bolsa Familia program affect showing up behavior?\n",
    "7. How does holding scholarship affect showing up behavior based on gender?\n",
    "8. What is the effect of each diagnosis on showing up behavior based on gender?\n",
    "9. How the appointment day and the showing up is related?\n",
    "10. How does the time difference between the scheluded day and appointment day affect the showing up behavior? \n"
   ]
  },
  {
   "cell_type": "code",
   "execution_count": 1,
   "metadata": {},
   "outputs": [],
   "source": [
    "import pandas as pd\n",
    "import numpy as np\n",
    "% matplotlib inline\n",
    "import matplotlib.pyplot as plt\n",
    "import seaborn as sb"
   ]
  },
  {
   "cell_type": "markdown",
   "metadata": {},
   "source": [
    "<a id='wrangling'></a>\n",
    "## Data Wrangling\n",
    "\n",
    "In this section of the report, I will load in the data, check for cleanliness, and then trim and clean the dataset for analysis.\n",
    "\n",
    "### General Properties"
   ]
  },
  {
   "cell_type": "code",
   "execution_count": 2,
   "metadata": {
    "scrolled": true
   },
   "outputs": [
    {
     "data": {
      "text/html": [
       "<div>\n",
       "<style scoped>\n",
       "    .dataframe tbody tr th:only-of-type {\n",
       "        vertical-align: middle;\n",
       "    }\n",
       "\n",
       "    .dataframe tbody tr th {\n",
       "        vertical-align: top;\n",
       "    }\n",
       "\n",
       "    .dataframe thead th {\n",
       "        text-align: right;\n",
       "    }\n",
       "</style>\n",
       "<table border=\"1\" class=\"dataframe\">\n",
       "  <thead>\n",
       "    <tr style=\"text-align: right;\">\n",
       "      <th></th>\n",
       "      <th>PatientId</th>\n",
       "      <th>AppointmentID</th>\n",
       "      <th>Gender</th>\n",
       "      <th>ScheduledDay</th>\n",
       "      <th>AppointmentDay</th>\n",
       "      <th>Age</th>\n",
       "      <th>Neighbourhood</th>\n",
       "      <th>Scholarship</th>\n",
       "      <th>Hipertension</th>\n",
       "      <th>Diabetes</th>\n",
       "      <th>Alcoholism</th>\n",
       "      <th>Handcap</th>\n",
       "      <th>SMS_received</th>\n",
       "      <th>No-show</th>\n",
       "    </tr>\n",
       "  </thead>\n",
       "  <tbody>\n",
       "    <tr>\n",
       "      <th>0</th>\n",
       "      <td>2.987250e+13</td>\n",
       "      <td>5642903</td>\n",
       "      <td>F</td>\n",
       "      <td>2016-04-29T18:38:08Z</td>\n",
       "      <td>2016-04-29T00:00:00Z</td>\n",
       "      <td>62</td>\n",
       "      <td>JARDIM DA PENHA</td>\n",
       "      <td>0</td>\n",
       "      <td>1</td>\n",
       "      <td>0</td>\n",
       "      <td>0</td>\n",
       "      <td>0</td>\n",
       "      <td>0</td>\n",
       "      <td>No</td>\n",
       "    </tr>\n",
       "    <tr>\n",
       "      <th>1</th>\n",
       "      <td>5.589978e+14</td>\n",
       "      <td>5642503</td>\n",
       "      <td>M</td>\n",
       "      <td>2016-04-29T16:08:27Z</td>\n",
       "      <td>2016-04-29T00:00:00Z</td>\n",
       "      <td>56</td>\n",
       "      <td>JARDIM DA PENHA</td>\n",
       "      <td>0</td>\n",
       "      <td>0</td>\n",
       "      <td>0</td>\n",
       "      <td>0</td>\n",
       "      <td>0</td>\n",
       "      <td>0</td>\n",
       "      <td>No</td>\n",
       "    </tr>\n",
       "    <tr>\n",
       "      <th>2</th>\n",
       "      <td>4.262962e+12</td>\n",
       "      <td>5642549</td>\n",
       "      <td>F</td>\n",
       "      <td>2016-04-29T16:19:04Z</td>\n",
       "      <td>2016-04-29T00:00:00Z</td>\n",
       "      <td>62</td>\n",
       "      <td>MATA DA PRAIA</td>\n",
       "      <td>0</td>\n",
       "      <td>0</td>\n",
       "      <td>0</td>\n",
       "      <td>0</td>\n",
       "      <td>0</td>\n",
       "      <td>0</td>\n",
       "      <td>No</td>\n",
       "    </tr>\n",
       "    <tr>\n",
       "      <th>3</th>\n",
       "      <td>8.679512e+11</td>\n",
       "      <td>5642828</td>\n",
       "      <td>F</td>\n",
       "      <td>2016-04-29T17:29:31Z</td>\n",
       "      <td>2016-04-29T00:00:00Z</td>\n",
       "      <td>8</td>\n",
       "      <td>PONTAL DE CAMBURI</td>\n",
       "      <td>0</td>\n",
       "      <td>0</td>\n",
       "      <td>0</td>\n",
       "      <td>0</td>\n",
       "      <td>0</td>\n",
       "      <td>0</td>\n",
       "      <td>No</td>\n",
       "    </tr>\n",
       "    <tr>\n",
       "      <th>4</th>\n",
       "      <td>8.841186e+12</td>\n",
       "      <td>5642494</td>\n",
       "      <td>F</td>\n",
       "      <td>2016-04-29T16:07:23Z</td>\n",
       "      <td>2016-04-29T00:00:00Z</td>\n",
       "      <td>56</td>\n",
       "      <td>JARDIM DA PENHA</td>\n",
       "      <td>0</td>\n",
       "      <td>1</td>\n",
       "      <td>1</td>\n",
       "      <td>0</td>\n",
       "      <td>0</td>\n",
       "      <td>0</td>\n",
       "      <td>No</td>\n",
       "    </tr>\n",
       "  </tbody>\n",
       "</table>\n",
       "</div>"
      ],
      "text/plain": [
       "      PatientId  AppointmentID Gender          ScheduledDay  \\\n",
       "0  2.987250e+13        5642903      F  2016-04-29T18:38:08Z   \n",
       "1  5.589978e+14        5642503      M  2016-04-29T16:08:27Z   \n",
       "2  4.262962e+12        5642549      F  2016-04-29T16:19:04Z   \n",
       "3  8.679512e+11        5642828      F  2016-04-29T17:29:31Z   \n",
       "4  8.841186e+12        5642494      F  2016-04-29T16:07:23Z   \n",
       "\n",
       "         AppointmentDay  Age      Neighbourhood  Scholarship  Hipertension  \\\n",
       "0  2016-04-29T00:00:00Z   62    JARDIM DA PENHA            0             1   \n",
       "1  2016-04-29T00:00:00Z   56    JARDIM DA PENHA            0             0   \n",
       "2  2016-04-29T00:00:00Z   62      MATA DA PRAIA            0             0   \n",
       "3  2016-04-29T00:00:00Z    8  PONTAL DE CAMBURI            0             0   \n",
       "4  2016-04-29T00:00:00Z   56    JARDIM DA PENHA            0             1   \n",
       "\n",
       "   Diabetes  Alcoholism  Handcap  SMS_received No-show  \n",
       "0         0           0        0             0      No  \n",
       "1         0           0        0             0      No  \n",
       "2         0           0        0             0      No  \n",
       "3         0           0        0             0      No  \n",
       "4         1           0        0             0      No  "
      ]
     },
     "execution_count": 2,
     "metadata": {},
     "output_type": "execute_result"
    }
   ],
   "source": [
    "df = pd.read_csv('noshow-appointments.csv')\n",
    "df.head()"
   ]
  },
  {
   "cell_type": "code",
   "execution_count": 3,
   "metadata": {
    "scrolled": true
   },
   "outputs": [
    {
     "data": {
      "text/plain": [
       "(110527, 14)"
      ]
     },
     "execution_count": 3,
     "metadata": {},
     "output_type": "execute_result"
    }
   ],
   "source": [
    "df.shape"
   ]
  },
  {
   "cell_type": "code",
   "execution_count": 4,
   "metadata": {
    "scrolled": true
   },
   "outputs": [
    {
     "data": {
      "text/html": [
       "<div>\n",
       "<style scoped>\n",
       "    .dataframe tbody tr th:only-of-type {\n",
       "        vertical-align: middle;\n",
       "    }\n",
       "\n",
       "    .dataframe tbody tr th {\n",
       "        vertical-align: top;\n",
       "    }\n",
       "\n",
       "    .dataframe thead th {\n",
       "        text-align: right;\n",
       "    }\n",
       "</style>\n",
       "<table border=\"1\" class=\"dataframe\">\n",
       "  <thead>\n",
       "    <tr style=\"text-align: right;\">\n",
       "      <th></th>\n",
       "      <th>PatientId</th>\n",
       "      <th>AppointmentID</th>\n",
       "      <th>Age</th>\n",
       "      <th>Scholarship</th>\n",
       "      <th>Hipertension</th>\n",
       "      <th>Diabetes</th>\n",
       "      <th>Alcoholism</th>\n",
       "      <th>Handcap</th>\n",
       "      <th>SMS_received</th>\n",
       "    </tr>\n",
       "  </thead>\n",
       "  <tbody>\n",
       "    <tr>\n",
       "      <th>count</th>\n",
       "      <td>1.105270e+05</td>\n",
       "      <td>1.105270e+05</td>\n",
       "      <td>110527.000000</td>\n",
       "      <td>110527.000000</td>\n",
       "      <td>110527.000000</td>\n",
       "      <td>110527.000000</td>\n",
       "      <td>110527.000000</td>\n",
       "      <td>110527.000000</td>\n",
       "      <td>110527.000000</td>\n",
       "    </tr>\n",
       "    <tr>\n",
       "      <th>mean</th>\n",
       "      <td>1.474963e+14</td>\n",
       "      <td>5.675305e+06</td>\n",
       "      <td>37.088874</td>\n",
       "      <td>0.098266</td>\n",
       "      <td>0.197246</td>\n",
       "      <td>0.071865</td>\n",
       "      <td>0.030400</td>\n",
       "      <td>0.022248</td>\n",
       "      <td>0.321026</td>\n",
       "    </tr>\n",
       "    <tr>\n",
       "      <th>std</th>\n",
       "      <td>2.560949e+14</td>\n",
       "      <td>7.129575e+04</td>\n",
       "      <td>23.110205</td>\n",
       "      <td>0.297675</td>\n",
       "      <td>0.397921</td>\n",
       "      <td>0.258265</td>\n",
       "      <td>0.171686</td>\n",
       "      <td>0.161543</td>\n",
       "      <td>0.466873</td>\n",
       "    </tr>\n",
       "    <tr>\n",
       "      <th>min</th>\n",
       "      <td>3.921784e+04</td>\n",
       "      <td>5.030230e+06</td>\n",
       "      <td>-1.000000</td>\n",
       "      <td>0.000000</td>\n",
       "      <td>0.000000</td>\n",
       "      <td>0.000000</td>\n",
       "      <td>0.000000</td>\n",
       "      <td>0.000000</td>\n",
       "      <td>0.000000</td>\n",
       "    </tr>\n",
       "    <tr>\n",
       "      <th>25%</th>\n",
       "      <td>4.172614e+12</td>\n",
       "      <td>5.640286e+06</td>\n",
       "      <td>18.000000</td>\n",
       "      <td>0.000000</td>\n",
       "      <td>0.000000</td>\n",
       "      <td>0.000000</td>\n",
       "      <td>0.000000</td>\n",
       "      <td>0.000000</td>\n",
       "      <td>0.000000</td>\n",
       "    </tr>\n",
       "    <tr>\n",
       "      <th>50%</th>\n",
       "      <td>3.173184e+13</td>\n",
       "      <td>5.680573e+06</td>\n",
       "      <td>37.000000</td>\n",
       "      <td>0.000000</td>\n",
       "      <td>0.000000</td>\n",
       "      <td>0.000000</td>\n",
       "      <td>0.000000</td>\n",
       "      <td>0.000000</td>\n",
       "      <td>0.000000</td>\n",
       "    </tr>\n",
       "    <tr>\n",
       "      <th>75%</th>\n",
       "      <td>9.439172e+13</td>\n",
       "      <td>5.725524e+06</td>\n",
       "      <td>55.000000</td>\n",
       "      <td>0.000000</td>\n",
       "      <td>0.000000</td>\n",
       "      <td>0.000000</td>\n",
       "      <td>0.000000</td>\n",
       "      <td>0.000000</td>\n",
       "      <td>1.000000</td>\n",
       "    </tr>\n",
       "    <tr>\n",
       "      <th>max</th>\n",
       "      <td>9.999816e+14</td>\n",
       "      <td>5.790484e+06</td>\n",
       "      <td>115.000000</td>\n",
       "      <td>1.000000</td>\n",
       "      <td>1.000000</td>\n",
       "      <td>1.000000</td>\n",
       "      <td>1.000000</td>\n",
       "      <td>4.000000</td>\n",
       "      <td>1.000000</td>\n",
       "    </tr>\n",
       "  </tbody>\n",
       "</table>\n",
       "</div>"
      ],
      "text/plain": [
       "          PatientId  AppointmentID            Age    Scholarship  \\\n",
       "count  1.105270e+05   1.105270e+05  110527.000000  110527.000000   \n",
       "mean   1.474963e+14   5.675305e+06      37.088874       0.098266   \n",
       "std    2.560949e+14   7.129575e+04      23.110205       0.297675   \n",
       "min    3.921784e+04   5.030230e+06      -1.000000       0.000000   \n",
       "25%    4.172614e+12   5.640286e+06      18.000000       0.000000   \n",
       "50%    3.173184e+13   5.680573e+06      37.000000       0.000000   \n",
       "75%    9.439172e+13   5.725524e+06      55.000000       0.000000   \n",
       "max    9.999816e+14   5.790484e+06     115.000000       1.000000   \n",
       "\n",
       "        Hipertension       Diabetes     Alcoholism        Handcap  \\\n",
       "count  110527.000000  110527.000000  110527.000000  110527.000000   \n",
       "mean        0.197246       0.071865       0.030400       0.022248   \n",
       "std         0.397921       0.258265       0.171686       0.161543   \n",
       "min         0.000000       0.000000       0.000000       0.000000   \n",
       "25%         0.000000       0.000000       0.000000       0.000000   \n",
       "50%         0.000000       0.000000       0.000000       0.000000   \n",
       "75%         0.000000       0.000000       0.000000       0.000000   \n",
       "max         1.000000       1.000000       1.000000       4.000000   \n",
       "\n",
       "        SMS_received  \n",
       "count  110527.000000  \n",
       "mean        0.321026  \n",
       "std         0.466873  \n",
       "min         0.000000  \n",
       "25%         0.000000  \n",
       "50%         0.000000  \n",
       "75%         1.000000  \n",
       "max         1.000000  "
      ]
     },
     "execution_count": 4,
     "metadata": {},
     "output_type": "execute_result"
    }
   ],
   "source": [
    "df.describe()"
   ]
  },
  {
   "cell_type": "code",
   "execution_count": 5,
   "metadata": {
    "scrolled": true
   },
   "outputs": [
    {
     "name": "stdout",
     "output_type": "stream",
     "text": [
      "<class 'pandas.core.frame.DataFrame'>\n",
      "RangeIndex: 110527 entries, 0 to 110526\n",
      "Data columns (total 14 columns):\n",
      "PatientId         110527 non-null float64\n",
      "AppointmentID     110527 non-null int64\n",
      "Gender            110527 non-null object\n",
      "ScheduledDay      110527 non-null object\n",
      "AppointmentDay    110527 non-null object\n",
      "Age               110527 non-null int64\n",
      "Neighbourhood     110527 non-null object\n",
      "Scholarship       110527 non-null int64\n",
      "Hipertension      110527 non-null int64\n",
      "Diabetes          110527 non-null int64\n",
      "Alcoholism        110527 non-null int64\n",
      "Handcap           110527 non-null int64\n",
      "SMS_received      110527 non-null int64\n",
      "No-show           110527 non-null object\n",
      "dtypes: float64(1), int64(8), object(5)\n",
      "memory usage: 11.8+ MB\n"
     ]
    }
   ],
   "source": [
    "df.info()"
   ]
  },
  {
   "cell_type": "code",
   "execution_count": 6,
   "metadata": {},
   "outputs": [
    {
     "data": {
      "text/plain": [
       "0"
      ]
     },
     "execution_count": 6,
     "metadata": {},
     "output_type": "execute_result"
    }
   ],
   "source": [
    "# Check for duplicates\n",
    "df.duplicated().sum()"
   ]
  },
  {
   "cell_type": "markdown",
   "metadata": {},
   "source": [
    "### Data Cleaning\n",
    "- Fix typos in column names (AppointmentID, Hipertension, Handcap, No-show).\n",
    "- Correct data types of the columns *PatientId*, *AppointmentID*,  *ScheduledDay*, *AppointmentDay*.\n",
    "- Extract only date from the columns *ScheduledDay* and *AppointmentDay*, exclude time.\n",
    "- Remove outliers in the *Age* column. \n",
    "- Find the time between AppointmentDay and ScheduledDay and create *Elapsed_time* column.\n",
    "- Change 'Yes' as 1 and 'No' as 0 in the *No_show* column. 0 if the patient showed up to their appointment, and 1 if they did not show up.\n",
    "- Create a column *Weekday* where Monday is 1 and Sunday is 7.\n",
    "- Find the time between AppointmentDay and ScheduledDay and create *Elapsed_time* column."
   ]
  },
  {
   "cell_type": "markdown",
   "metadata": {},
   "source": [
    "#### Fix typos in column names."
   ]
  },
  {
   "cell_type": "code",
   "execution_count": 7,
   "metadata": {
    "scrolled": true
   },
   "outputs": [
    {
     "name": "stdout",
     "output_type": "stream",
     "text": [
      "Index(['PatientId', 'AppointmentId', 'Gender', 'ScheduledDay',\n",
      "       'AppointmentDay', 'Age', 'Neighbourhood', 'Scholarship', 'Hypertension',\n",
      "       'Diabetes', 'Alcoholism', 'Handicap', 'SMS_received', 'No_show'],\n",
      "      dtype='object')\n"
     ]
    }
   ],
   "source": [
    "df.rename(columns = {'AppointmentID':'AppointmentId',\n",
    "                     'Hipertension': 'Hypertension',\n",
    "                     'Handcap': 'Handicap',\n",
    "                     'No-show': 'No_show'}, inplace = True)\n",
    "print(df.columns)"
   ]
  },
  {
   "cell_type": "markdown",
   "metadata": {},
   "source": [
    "#### Correct data types of the columns *PatientId*, *AppointmentID*,  *ScheduledDay*, *AppointmentDay*."
   ]
  },
  {
   "cell_type": "code",
   "execution_count": 8,
   "metadata": {},
   "outputs": [],
   "source": [
    "df['PatientId'] = df['PatientId'].astype(str).replace('\\.0', '', regex=True)\n",
    "df['AppointmentId'] = df['AppointmentId'].astype(str)\n",
    "df['ScheduledDay'] = pd.to_datetime(df['ScheduledDay'])\n",
    "df['AppointmentDay'] = pd.to_datetime(df['AppointmentDay'])"
   ]
  },
  {
   "cell_type": "markdown",
   "metadata": {},
   "source": [
    "#### Extract only date, exclude time."
   ]
  },
  {
   "cell_type": "code",
   "execution_count": 9,
   "metadata": {},
   "outputs": [],
   "source": [
    "df['ScheduledDay'] = df['ScheduledDay'].apply(lambda x: x.strftime('%d-%m-%Y')) \n",
    "df['AppointmentDay'] = df['AppointmentDay'].apply(lambda x: x.strftime('%d-%m-%Y'))"
   ]
  },
  {
   "cell_type": "markdown",
   "metadata": {},
   "source": [
    "#### Convert them to datetime again."
   ]
  },
  {
   "cell_type": "code",
   "execution_count": 10,
   "metadata": {},
   "outputs": [],
   "source": [
    "df['ScheduledDay'] = pd.to_datetime(df['ScheduledDay'])\n",
    "df['AppointmentDay'] = pd.to_datetime(df['AppointmentDay'])"
   ]
  },
  {
   "cell_type": "code",
   "execution_count": 11,
   "metadata": {},
   "outputs": [
    {
     "name": "stdout",
     "output_type": "stream",
     "text": [
      "<class 'pandas.core.frame.DataFrame'>\n",
      "RangeIndex: 110527 entries, 0 to 110526\n",
      "Data columns (total 14 columns):\n",
      "PatientId         110527 non-null object\n",
      "AppointmentId     110527 non-null object\n",
      "Gender            110527 non-null object\n",
      "ScheduledDay      110527 non-null datetime64[ns]\n",
      "AppointmentDay    110527 non-null datetime64[ns]\n",
      "Age               110527 non-null int64\n",
      "Neighbourhood     110527 non-null object\n",
      "Scholarship       110527 non-null int64\n",
      "Hypertension      110527 non-null int64\n",
      "Diabetes          110527 non-null int64\n",
      "Alcoholism        110527 non-null int64\n",
      "Handicap          110527 non-null int64\n",
      "SMS_received      110527 non-null int64\n",
      "No_show           110527 non-null object\n",
      "dtypes: datetime64[ns](2), int64(7), object(5)\n",
      "memory usage: 11.8+ MB\n"
     ]
    }
   ],
   "source": [
    "df.info()"
   ]
  },
  {
   "cell_type": "code",
   "execution_count": 12,
   "metadata": {},
   "outputs": [
    {
     "data": {
      "text/html": [
       "<div>\n",
       "<style scoped>\n",
       "    .dataframe tbody tr th:only-of-type {\n",
       "        vertical-align: middle;\n",
       "    }\n",
       "\n",
       "    .dataframe tbody tr th {\n",
       "        vertical-align: top;\n",
       "    }\n",
       "\n",
       "    .dataframe thead th {\n",
       "        text-align: right;\n",
       "    }\n",
       "</style>\n",
       "<table border=\"1\" class=\"dataframe\">\n",
       "  <thead>\n",
       "    <tr style=\"text-align: right;\">\n",
       "      <th></th>\n",
       "      <th>PatientId</th>\n",
       "      <th>AppointmentId</th>\n",
       "      <th>Gender</th>\n",
       "      <th>ScheduledDay</th>\n",
       "      <th>AppointmentDay</th>\n",
       "      <th>Age</th>\n",
       "      <th>Neighbourhood</th>\n",
       "      <th>Scholarship</th>\n",
       "      <th>Hypertension</th>\n",
       "      <th>Diabetes</th>\n",
       "      <th>Alcoholism</th>\n",
       "      <th>Handicap</th>\n",
       "      <th>SMS_received</th>\n",
       "      <th>No_show</th>\n",
       "    </tr>\n",
       "  </thead>\n",
       "  <tbody>\n",
       "    <tr>\n",
       "      <th>0</th>\n",
       "      <td>2.98724998243e+13</td>\n",
       "      <td>5642903</td>\n",
       "      <td>F</td>\n",
       "      <td>2016-04-29</td>\n",
       "      <td>2016-04-29</td>\n",
       "      <td>62</td>\n",
       "      <td>JARDIM DA PENHA</td>\n",
       "      <td>0</td>\n",
       "      <td>1</td>\n",
       "      <td>0</td>\n",
       "      <td>0</td>\n",
       "      <td>0</td>\n",
       "      <td>0</td>\n",
       "      <td>No</td>\n",
       "    </tr>\n",
       "    <tr>\n",
       "      <th>1</th>\n",
       "      <td>5.58997776694e+14</td>\n",
       "      <td>5642503</td>\n",
       "      <td>M</td>\n",
       "      <td>2016-04-29</td>\n",
       "      <td>2016-04-29</td>\n",
       "      <td>56</td>\n",
       "      <td>JARDIM DA PENHA</td>\n",
       "      <td>0</td>\n",
       "      <td>0</td>\n",
       "      <td>0</td>\n",
       "      <td>0</td>\n",
       "      <td>0</td>\n",
       "      <td>0</td>\n",
       "      <td>No</td>\n",
       "    </tr>\n",
       "    <tr>\n",
       "      <th>2</th>\n",
       "      <td>4.26296229995e+12</td>\n",
       "      <td>5642549</td>\n",
       "      <td>F</td>\n",
       "      <td>2016-04-29</td>\n",
       "      <td>2016-04-29</td>\n",
       "      <td>62</td>\n",
       "      <td>MATA DA PRAIA</td>\n",
       "      <td>0</td>\n",
       "      <td>0</td>\n",
       "      <td>0</td>\n",
       "      <td>0</td>\n",
       "      <td>0</td>\n",
       "      <td>0</td>\n",
       "      <td>No</td>\n",
       "    </tr>\n",
       "    <tr>\n",
       "      <th>3</th>\n",
       "      <td>867951213174</td>\n",
       "      <td>5642828</td>\n",
       "      <td>F</td>\n",
       "      <td>2016-04-29</td>\n",
       "      <td>2016-04-29</td>\n",
       "      <td>8</td>\n",
       "      <td>PONTAL DE CAMBURI</td>\n",
       "      <td>0</td>\n",
       "      <td>0</td>\n",
       "      <td>0</td>\n",
       "      <td>0</td>\n",
       "      <td>0</td>\n",
       "      <td>0</td>\n",
       "      <td>No</td>\n",
       "    </tr>\n",
       "    <tr>\n",
       "      <th>4</th>\n",
       "      <td>8.84118644818e+12</td>\n",
       "      <td>5642494</td>\n",
       "      <td>F</td>\n",
       "      <td>2016-04-29</td>\n",
       "      <td>2016-04-29</td>\n",
       "      <td>56</td>\n",
       "      <td>JARDIM DA PENHA</td>\n",
       "      <td>0</td>\n",
       "      <td>1</td>\n",
       "      <td>1</td>\n",
       "      <td>0</td>\n",
       "      <td>0</td>\n",
       "      <td>0</td>\n",
       "      <td>No</td>\n",
       "    </tr>\n",
       "  </tbody>\n",
       "</table>\n",
       "</div>"
      ],
      "text/plain": [
       "           PatientId AppointmentId Gender ScheduledDay AppointmentDay  Age  \\\n",
       "0  2.98724998243e+13       5642903      F   2016-04-29     2016-04-29   62   \n",
       "1  5.58997776694e+14       5642503      M   2016-04-29     2016-04-29   56   \n",
       "2  4.26296229995e+12       5642549      F   2016-04-29     2016-04-29   62   \n",
       "3       867951213174       5642828      F   2016-04-29     2016-04-29    8   \n",
       "4  8.84118644818e+12       5642494      F   2016-04-29     2016-04-29   56   \n",
       "\n",
       "       Neighbourhood  Scholarship  Hypertension  Diabetes  Alcoholism  \\\n",
       "0    JARDIM DA PENHA            0             1         0           0   \n",
       "1    JARDIM DA PENHA            0             0         0           0   \n",
       "2      MATA DA PRAIA            0             0         0           0   \n",
       "3  PONTAL DE CAMBURI            0             0         0           0   \n",
       "4    JARDIM DA PENHA            0             1         1           0   \n",
       "\n",
       "   Handicap  SMS_received No_show  \n",
       "0         0             0      No  \n",
       "1         0             0      No  \n",
       "2         0             0      No  \n",
       "3         0             0      No  \n",
       "4         0             0      No  "
      ]
     },
     "execution_count": 12,
     "metadata": {},
     "output_type": "execute_result"
    }
   ],
   "source": [
    "df.head()"
   ]
  },
  {
   "cell_type": "markdown",
   "metadata": {},
   "source": [
    "#### Check for erroneous data"
   ]
  },
  {
   "cell_type": "code",
   "execution_count": 13,
   "metadata": {
    "scrolled": false
   },
   "outputs": [
    {
     "name": "stdout",
     "output_type": "stream",
     "text": [
      "Gender: ['F' 'M']\n",
      "Age: [-1, 0, 1, 2, 3, 4, 5, 6, 7, 8, 9, 10, 11, 12, 13, 14, 15, 16, 17, 18, 19, 20, 21, 22, 23, 24, 25, 26, 27, 28, 29, 30, 31, 32, 33, 34, 35, 36, 37, 38, 39, 40, 41, 42, 43, 44, 45, 46, 47, 48, 49, 50, 51, 52, 53, 54, 55, 56, 57, 58, 59, 60, 61, 62, 63, 64, 65, 66, 67, 68, 69, 70, 71, 72, 73, 74, 75, 76, 77, 78, 79, 80, 81, 82, 83, 84, 85, 86, 87, 88, 89, 90, 91, 92, 93, 94, 95, 96, 97, 98, 99, 100, 102, 115]\n",
      "Scholarship: [0 1]\n",
      "Hypertension: [1 0]\n",
      "Diabetes: [0 1]\n",
      "Alcoholism: [0 1]\n",
      "Handicap: [0 1 2 3 4]\n",
      "SMS_received: [0 1]\n",
      "No_show: ['No' 'Yes']\n"
     ]
    }
   ],
   "source": [
    "print('Gender:',df.Gender.unique())\n",
    "print('Age:',sorted(df.Age.unique()))\n",
    "print('Scholarship:',df.Scholarship.unique())\n",
    "print('Hypertension:',df.Hypertension.unique())\n",
    "print('Diabetes:',df.Diabetes.unique())\n",
    "print('Alcoholism:',df.Alcoholism.unique())\n",
    "print('Handicap:',df.Handicap.unique())\n",
    "print('SMS_received:',df.SMS_received.unique())\n",
    "print('No_show:',df.No_show.unique())\n"
   ]
  },
  {
   "cell_type": "markdown",
   "metadata": {},
   "source": [
    "#### Remove outliers in the *Age* column. "
   ]
  },
  {
   "cell_type": "code",
   "execution_count": 14,
   "metadata": {
    "scrolled": true
   },
   "outputs": [
    {
     "name": "stdout",
     "output_type": "stream",
     "text": [
      "Age: [0, 1, 2, 3, 4, 5, 6, 7, 8, 9, 10, 11, 12, 13, 14, 15, 16, 17, 18, 19, 20, 21, 22, 23, 24, 25, 26, 27, 28, 29, 30, 31, 32, 33, 34, 35, 36, 37, 38, 39, 40, 41, 42, 43, 44, 45, 46, 47, 48, 49, 50, 51, 52, 53, 54, 55, 56, 57, 58, 59, 60, 61, 62, 63, 64, 65, 66, 67, 68, 69, 70, 71, 72, 73, 74, 75, 76, 77, 78, 79, 80, 81, 82, 83, 84, 85, 86, 87, 88, 89, 90, 91, 92, 93, 94, 95]\n"
     ]
    }
   ],
   "source": [
    "df = df[(df.Age >= 0) & (df.Age <= 95)]\n",
    "print('Age:',sorted(df.Age.unique()))"
   ]
  },
  {
   "cell_type": "markdown",
   "metadata": {},
   "source": [
    "#### Change 'Yes' as 1 and 'No' as 0 in the *No_show* column. 0 if the patient showed up to their appointment, and 1 if they did not show up."
   ]
  },
  {
   "cell_type": "code",
   "execution_count": 15,
   "metadata": {},
   "outputs": [],
   "source": [
    "df['No_show'] = df['No_show'].map({'Yes':1, 'No':0})"
   ]
  },
  {
   "cell_type": "markdown",
   "metadata": {},
   "source": [
    "#### Create a column *Weekday* by using the function  `isoweekday()` which returns the day of the week as an integer, where Monday is 1 and Sunday is 7."
   ]
  },
  {
   "cell_type": "code",
   "execution_count": 16,
   "metadata": {
    "scrolled": true
   },
   "outputs": [
    {
     "name": "stdout",
     "output_type": "stream",
     "text": [
      "Weekday: [1, 2, 3, 4, 5, 6, 7]\n"
     ]
    }
   ],
   "source": [
    "df['Weekday'] = pd.to_datetime(df['AppointmentDay']).apply(lambda x: x.isoweekday())\n",
    "print('Weekday:',sorted(df.Weekday.unique()))"
   ]
  },
  {
   "cell_type": "code",
   "execution_count": 17,
   "metadata": {},
   "outputs": [
    {
     "name": "stdout",
     "output_type": "stream",
     "text": [
      "<class 'pandas.core.frame.DataFrame'>\n",
      "Int64Index: 110480 entries, 0 to 110526\n",
      "Data columns (total 15 columns):\n",
      "PatientId         110480 non-null object\n",
      "AppointmentId     110480 non-null object\n",
      "Gender            110480 non-null object\n",
      "ScheduledDay      110480 non-null datetime64[ns]\n",
      "AppointmentDay    110480 non-null datetime64[ns]\n",
      "Age               110480 non-null int64\n",
      "Neighbourhood     110480 non-null object\n",
      "Scholarship       110480 non-null int64\n",
      "Hypertension      110480 non-null int64\n",
      "Diabetes          110480 non-null int64\n",
      "Alcoholism        110480 non-null int64\n",
      "Handicap          110480 non-null int64\n",
      "SMS_received      110480 non-null int64\n",
      "No_show           110480 non-null int64\n",
      "Weekday           110480 non-null int64\n",
      "dtypes: datetime64[ns](2), int64(9), object(4)\n",
      "memory usage: 13.5+ MB\n"
     ]
    }
   ],
   "source": [
    "df.info()"
   ]
  },
  {
   "cell_type": "markdown",
   "metadata": {},
   "source": [
    "#### Find the time between *AppointmentDay* and *ScheduledDay* and create *Elapsed_time* column."
   ]
  },
  {
   "cell_type": "code",
   "execution_count": 18,
   "metadata": {},
   "outputs": [],
   "source": [
    "df['Elapsed_time'] = df['AppointmentDay'] - df['ScheduledDay']\n",
    "df['Elapsed_time'] = df['Elapsed_time'].dt.days"
   ]
  },
  {
   "cell_type": "code",
   "execution_count": 19,
   "metadata": {
    "scrolled": true
   },
   "outputs": [
    {
     "data": {
      "text/html": [
       "<div>\n",
       "<style scoped>\n",
       "    .dataframe tbody tr th:only-of-type {\n",
       "        vertical-align: middle;\n",
       "    }\n",
       "\n",
       "    .dataframe tbody tr th {\n",
       "        vertical-align: top;\n",
       "    }\n",
       "\n",
       "    .dataframe thead th {\n",
       "        text-align: right;\n",
       "    }\n",
       "</style>\n",
       "<table border=\"1\" class=\"dataframe\">\n",
       "  <thead>\n",
       "    <tr style=\"text-align: right;\">\n",
       "      <th></th>\n",
       "      <th>PatientId</th>\n",
       "      <th>AppointmentId</th>\n",
       "      <th>Gender</th>\n",
       "      <th>ScheduledDay</th>\n",
       "      <th>AppointmentDay</th>\n",
       "      <th>Age</th>\n",
       "      <th>Neighbourhood</th>\n",
       "      <th>Scholarship</th>\n",
       "      <th>Hypertension</th>\n",
       "      <th>Diabetes</th>\n",
       "      <th>Alcoholism</th>\n",
       "      <th>Handicap</th>\n",
       "      <th>SMS_received</th>\n",
       "      <th>No_show</th>\n",
       "      <th>Weekday</th>\n",
       "      <th>Elapsed_time</th>\n",
       "    </tr>\n",
       "  </thead>\n",
       "  <tbody>\n",
       "    <tr>\n",
       "      <th>0</th>\n",
       "      <td>2.98724998243e+13</td>\n",
       "      <td>5642903</td>\n",
       "      <td>F</td>\n",
       "      <td>2016-04-29</td>\n",
       "      <td>2016-04-29</td>\n",
       "      <td>62</td>\n",
       "      <td>JARDIM DA PENHA</td>\n",
       "      <td>0</td>\n",
       "      <td>1</td>\n",
       "      <td>0</td>\n",
       "      <td>0</td>\n",
       "      <td>0</td>\n",
       "      <td>0</td>\n",
       "      <td>0</td>\n",
       "      <td>5</td>\n",
       "      <td>0</td>\n",
       "    </tr>\n",
       "    <tr>\n",
       "      <th>1</th>\n",
       "      <td>5.58997776694e+14</td>\n",
       "      <td>5642503</td>\n",
       "      <td>M</td>\n",
       "      <td>2016-04-29</td>\n",
       "      <td>2016-04-29</td>\n",
       "      <td>56</td>\n",
       "      <td>JARDIM DA PENHA</td>\n",
       "      <td>0</td>\n",
       "      <td>0</td>\n",
       "      <td>0</td>\n",
       "      <td>0</td>\n",
       "      <td>0</td>\n",
       "      <td>0</td>\n",
       "      <td>0</td>\n",
       "      <td>5</td>\n",
       "      <td>0</td>\n",
       "    </tr>\n",
       "    <tr>\n",
       "      <th>2</th>\n",
       "      <td>4.26296229995e+12</td>\n",
       "      <td>5642549</td>\n",
       "      <td>F</td>\n",
       "      <td>2016-04-29</td>\n",
       "      <td>2016-04-29</td>\n",
       "      <td>62</td>\n",
       "      <td>MATA DA PRAIA</td>\n",
       "      <td>0</td>\n",
       "      <td>0</td>\n",
       "      <td>0</td>\n",
       "      <td>0</td>\n",
       "      <td>0</td>\n",
       "      <td>0</td>\n",
       "      <td>0</td>\n",
       "      <td>5</td>\n",
       "      <td>0</td>\n",
       "    </tr>\n",
       "    <tr>\n",
       "      <th>3</th>\n",
       "      <td>867951213174</td>\n",
       "      <td>5642828</td>\n",
       "      <td>F</td>\n",
       "      <td>2016-04-29</td>\n",
       "      <td>2016-04-29</td>\n",
       "      <td>8</td>\n",
       "      <td>PONTAL DE CAMBURI</td>\n",
       "      <td>0</td>\n",
       "      <td>0</td>\n",
       "      <td>0</td>\n",
       "      <td>0</td>\n",
       "      <td>0</td>\n",
       "      <td>0</td>\n",
       "      <td>0</td>\n",
       "      <td>5</td>\n",
       "      <td>0</td>\n",
       "    </tr>\n",
       "    <tr>\n",
       "      <th>4</th>\n",
       "      <td>8.84118644818e+12</td>\n",
       "      <td>5642494</td>\n",
       "      <td>F</td>\n",
       "      <td>2016-04-29</td>\n",
       "      <td>2016-04-29</td>\n",
       "      <td>56</td>\n",
       "      <td>JARDIM DA PENHA</td>\n",
       "      <td>0</td>\n",
       "      <td>1</td>\n",
       "      <td>1</td>\n",
       "      <td>0</td>\n",
       "      <td>0</td>\n",
       "      <td>0</td>\n",
       "      <td>0</td>\n",
       "      <td>5</td>\n",
       "      <td>0</td>\n",
       "    </tr>\n",
       "  </tbody>\n",
       "</table>\n",
       "</div>"
      ],
      "text/plain": [
       "           PatientId AppointmentId Gender ScheduledDay AppointmentDay  Age  \\\n",
       "0  2.98724998243e+13       5642903      F   2016-04-29     2016-04-29   62   \n",
       "1  5.58997776694e+14       5642503      M   2016-04-29     2016-04-29   56   \n",
       "2  4.26296229995e+12       5642549      F   2016-04-29     2016-04-29   62   \n",
       "3       867951213174       5642828      F   2016-04-29     2016-04-29    8   \n",
       "4  8.84118644818e+12       5642494      F   2016-04-29     2016-04-29   56   \n",
       "\n",
       "       Neighbourhood  Scholarship  Hypertension  Diabetes  Alcoholism  \\\n",
       "0    JARDIM DA PENHA            0             1         0           0   \n",
       "1    JARDIM DA PENHA            0             0         0           0   \n",
       "2      MATA DA PRAIA            0             0         0           0   \n",
       "3  PONTAL DE CAMBURI            0             0         0           0   \n",
       "4    JARDIM DA PENHA            0             1         1           0   \n",
       "\n",
       "   Handicap  SMS_received  No_show  Weekday  Elapsed_time  \n",
       "0         0             0        0        5             0  \n",
       "1         0             0        0        5             0  \n",
       "2         0             0        0        5             0  \n",
       "3         0             0        0        5             0  \n",
       "4         0             0        0        5             0  "
      ]
     },
     "execution_count": 19,
     "metadata": {},
     "output_type": "execute_result"
    }
   ],
   "source": [
    "df.head()"
   ]
  },
  {
   "cell_type": "markdown",
   "metadata": {},
   "source": [
    "<a id='eda'></a>\n",
    "## Exploratory Data Analysis\n"
   ]
  },
  {
   "cell_type": "markdown",
   "metadata": {},
   "source": [
    "#### Display the histograms."
   ]
  },
  {
   "cell_type": "code",
   "execution_count": 20,
   "metadata": {
    "scrolled": true
   },
   "outputs": [
    {
     "data": {
      "image/png": "[encoded data removed]",
      "text/plain": [
       "<matplotlib.figure.Figure at 0x7fdffdda0828>"
      ]
     },
     "metadata": {
      "needs_background": "light"
     },
     "output_type": "display_data"
    }
   ],
   "source": [
    "df.hist(figsize=(10,10));"
   ]
  },
  {
   "cell_type": "markdown",
   "metadata": {},
   "source": [
    "#### Have a look at the summary statistics."
   ]
  },
  {
   "cell_type": "code",
   "execution_count": 21,
   "metadata": {
    "scrolled": true
   },
   "outputs": [
    {
     "data": {
      "text/html": [
       "<div>\n",
       "<style scoped>\n",
       "    .dataframe tbody tr th:only-of-type {\n",
       "        vertical-align: middle;\n",
       "    }\n",
       "\n",
       "    .dataframe tbody tr th {\n",
       "        vertical-align: top;\n",
       "    }\n",
       "\n",
       "    .dataframe thead th {\n",
       "        text-align: right;\n",
       "    }\n",
       "</style>\n",
       "<table border=\"1\" class=\"dataframe\">\n",
       "  <thead>\n",
       "    <tr style=\"text-align: right;\">\n",
       "      <th></th>\n",
       "      <th>Age</th>\n",
       "      <th>Scholarship</th>\n",
       "      <th>Hypertension</th>\n",
       "      <th>Diabetes</th>\n",
       "      <th>Alcoholism</th>\n",
       "      <th>Handicap</th>\n",
       "      <th>SMS_received</th>\n",
       "      <th>No_show</th>\n",
       "      <th>Weekday</th>\n",
       "      <th>Elapsed_time</th>\n",
       "    </tr>\n",
       "  </thead>\n",
       "  <tbody>\n",
       "    <tr>\n",
       "      <th>count</th>\n",
       "      <td>110480.000000</td>\n",
       "      <td>110480.000000</td>\n",
       "      <td>110480.000000</td>\n",
       "      <td>110480.000000</td>\n",
       "      <td>110480.000000</td>\n",
       "      <td>110480.000000</td>\n",
       "      <td>110480.000000</td>\n",
       "      <td>110480.000000</td>\n",
       "      <td>110480.000000</td>\n",
       "      <td>110480.000000</td>\n",
       "    </tr>\n",
       "    <tr>\n",
       "      <th>mean</th>\n",
       "      <td>37.063342</td>\n",
       "      <td>0.098307</td>\n",
       "      <td>0.197076</td>\n",
       "      <td>0.071841</td>\n",
       "      <td>0.030413</td>\n",
       "      <td>0.022167</td>\n",
       "      <td>0.321126</td>\n",
       "      <td>0.201955</td>\n",
       "      <td>3.557748</td>\n",
       "      <td>7.169243</td>\n",
       "    </tr>\n",
       "    <tr>\n",
       "      <th>std</th>\n",
       "      <td>23.079712</td>\n",
       "      <td>0.297731</td>\n",
       "      <td>0.397792</td>\n",
       "      <td>0.258226</td>\n",
       "      <td>0.171721</td>\n",
       "      <td>0.161252</td>\n",
       "      <td>0.466911</td>\n",
       "      <td>0.401461</td>\n",
       "      <td>1.970417</td>\n",
       "      <td>84.924206</td>\n",
       "    </tr>\n",
       "    <tr>\n",
       "      <th>min</th>\n",
       "      <td>0.000000</td>\n",
       "      <td>0.000000</td>\n",
       "      <td>0.000000</td>\n",
       "      <td>0.000000</td>\n",
       "      <td>0.000000</td>\n",
       "      <td>0.000000</td>\n",
       "      <td>0.000000</td>\n",
       "      <td>0.000000</td>\n",
       "      <td>1.000000</td>\n",
       "      <td>-334.000000</td>\n",
       "    </tr>\n",
       "    <tr>\n",
       "      <th>25%</th>\n",
       "      <td>18.000000</td>\n",
       "      <td>0.000000</td>\n",
       "      <td>0.000000</td>\n",
       "      <td>0.000000</td>\n",
       "      <td>0.000000</td>\n",
       "      <td>0.000000</td>\n",
       "      <td>0.000000</td>\n",
       "      <td>0.000000</td>\n",
       "      <td>2.000000</td>\n",
       "      <td>0.000000</td>\n",
       "    </tr>\n",
       "    <tr>\n",
       "      <th>50%</th>\n",
       "      <td>37.000000</td>\n",
       "      <td>0.000000</td>\n",
       "      <td>0.000000</td>\n",
       "      <td>0.000000</td>\n",
       "      <td>0.000000</td>\n",
       "      <td>0.000000</td>\n",
       "      <td>0.000000</td>\n",
       "      <td>0.000000</td>\n",
       "      <td>3.000000</td>\n",
       "      <td>0.000000</td>\n",
       "    </tr>\n",
       "    <tr>\n",
       "      <th>75%</th>\n",
       "      <td>55.000000</td>\n",
       "      <td>0.000000</td>\n",
       "      <td>0.000000</td>\n",
       "      <td>0.000000</td>\n",
       "      <td>0.000000</td>\n",
       "      <td>0.000000</td>\n",
       "      <td>1.000000</td>\n",
       "      <td>0.000000</td>\n",
       "      <td>5.000000</td>\n",
       "      <td>31.000000</td>\n",
       "    </tr>\n",
       "    <tr>\n",
       "      <th>max</th>\n",
       "      <td>95.000000</td>\n",
       "      <td>1.000000</td>\n",
       "      <td>1.000000</td>\n",
       "      <td>1.000000</td>\n",
       "      <td>1.000000</td>\n",
       "      <td>4.000000</td>\n",
       "      <td>1.000000</td>\n",
       "      <td>1.000000</td>\n",
       "      <td>7.000000</td>\n",
       "      <td>451.000000</td>\n",
       "    </tr>\n",
       "  </tbody>\n",
       "</table>\n",
       "</div>"
      ],
      "text/plain": [
       "                 Age    Scholarship   Hypertension       Diabetes  \\\n",
       "count  110480.000000  110480.000000  110480.000000  110480.000000   \n",
       "mean       37.063342       0.098307       0.197076       0.071841   \n",
       "std        23.079712       0.297731       0.397792       0.258226   \n",
       "min         0.000000       0.000000       0.000000       0.000000   \n",
       "25%        18.000000       0.000000       0.000000       0.000000   \n",
       "50%        37.000000       0.000000       0.000000       0.000000   \n",
       "75%        55.000000       0.000000       0.000000       0.000000   \n",
       "max        95.000000       1.000000       1.000000       1.000000   \n",
       "\n",
       "          Alcoholism       Handicap   SMS_received        No_show  \\\n",
       "count  110480.000000  110480.000000  110480.000000  110480.000000   \n",
       "mean        0.030413       0.022167       0.321126       0.201955   \n",
       "std         0.171721       0.161252       0.466911       0.401461   \n",
       "min         0.000000       0.000000       0.000000       0.000000   \n",
       "25%         0.000000       0.000000       0.000000       0.000000   \n",
       "50%         0.000000       0.000000       0.000000       0.000000   \n",
       "75%         0.000000       0.000000       1.000000       0.000000   \n",
       "max         1.000000       4.000000       1.000000       1.000000   \n",
       "\n",
       "             Weekday   Elapsed_time  \n",
       "count  110480.000000  110480.000000  \n",
       "mean        3.557748       7.169243  \n",
       "std         1.970417      84.924206  \n",
       "min         1.000000    -334.000000  \n",
       "25%         2.000000       0.000000  \n",
       "50%         3.000000       0.000000  \n",
       "75%         5.000000      31.000000  \n",
       "max         7.000000     451.000000  "
      ]
     },
     "execution_count": 21,
     "metadata": {},
     "output_type": "execute_result"
    }
   ],
   "source": [
    "df.describe()"
   ]
  },
  {
   "cell_type": "markdown",
   "metadata": {},
   "source": [
    "- Average age is 37.\n",
    "- Almost 10 percent of the patients are enrolled to the welfare program.\n",
    "- 20 percent of the patients have hypertension, 7 percent has diabetes, 3 percent has alcoholism.\n",
    "- 32 percent recieved SMS.\n",
    "- Most of the appointments are on Wednesday.\n",
    "- Overall, 20 percent of the patients did not showed up to their appointment."
   ]
  },
  {
   "cell_type": "markdown",
   "metadata": {},
   "source": [
    "#### Look at the time span"
   ]
  },
  {
   "cell_type": "code",
   "execution_count": 22,
   "metadata": {},
   "outputs": [
    {
     "data": {
      "text/plain": [
       "(array(['2016-04-29T00:00:00.000000000', '2016-03-05T00:00:00.000000000',\n",
       "        '2016-10-05T00:00:00.000000000', '2016-05-17T00:00:00.000000000',\n",
       "        '2016-05-24T00:00:00.000000000', '2016-05-31T00:00:00.000000000',\n",
       "        '2016-02-05T00:00:00.000000000', '2016-05-30T00:00:00.000000000',\n",
       "        '2016-05-16T00:00:00.000000000', '2016-04-05T00:00:00.000000000',\n",
       "        '2016-05-19T00:00:00.000000000', '2016-12-05T00:00:00.000000000',\n",
       "        '2016-06-05T00:00:00.000000000', '2016-05-20T00:00:00.000000000',\n",
       "        '2016-05-05T00:00:00.000000000', '2016-05-13T00:00:00.000000000',\n",
       "        '2016-09-05T00:00:00.000000000', '2016-05-25T00:00:00.000000000',\n",
       "        '2016-11-05T00:00:00.000000000', '2016-05-18T00:00:00.000000000',\n",
       "        '2016-05-14T00:00:00.000000000', '2016-02-06T00:00:00.000000000',\n",
       "        '2016-03-06T00:00:00.000000000', '2016-06-06T00:00:00.000000000',\n",
       "        '2016-07-06T00:00:00.000000000', '2016-01-06T00:00:00.000000000',\n",
       "        '2016-08-06T00:00:00.000000000'], dtype='datetime64[ns]'), 27)"
      ]
     },
     "execution_count": 22,
     "metadata": {},
     "output_type": "execute_result"
    }
   ],
   "source": [
    "df.AppointmentDay.unique(), df.AppointmentDay.nunique()"
   ]
  },
  {
   "cell_type": "markdown",
   "metadata": {},
   "source": [
    "This data consists the appointments between the dates 01.06.2016 and 05.12.2016,only in a six-month time span, however there are only 27 unique days."
   ]
  },
  {
   "cell_type": "markdown",
   "metadata": {},
   "source": [
    "#### Look at the distribution of missing appointments."
   ]
  },
  {
   "cell_type": "code",
   "execution_count": 23,
   "metadata": {},
   "outputs": [
    {
     "data": {
      "image/png": "[encoded data removed]",
      "text/plain": [
       "<matplotlib.figure.Figure at 0x7fdffddefe48>"
      ]
     },
     "metadata": {
      "needs_background": "light"
     },
     "output_type": "display_data"
    }
   ],
   "source": [
    "# Set color\n",
    "base_color = sb.color_palette()[0]\n",
    "\n",
    "sb.countplot(x='No_show', data=df, color = base_color);\n",
    "plt.xticks(np.arange(2), ('No', 'Yes'));\n",
    "plt.xlabel('Missed Appointment');\n",
    "plt.ylabel('Count');\n",
    "\n",
    "plt.title('Distribution of Missing Appointments');"
   ]
  },
  {
   "cell_type": "markdown",
   "metadata": {},
   "source": [
    "20 percent of the patients did not show up to their appointment."
   ]
  },
  {
   "cell_type": "markdown",
   "metadata": {},
   "source": [
    "#### Create masks for the rows where patients did not show and the rows where they showed."
   ]
  },
  {
   "cell_type": "code",
   "execution_count": 24,
   "metadata": {},
   "outputs": [],
   "source": [
    "not_showed = df.No_show == True\n",
    "showed = df.No_show == False"
   ]
  },
  {
   "cell_type": "markdown",
   "metadata": {},
   "source": [
    "### What is the relationship between age and showing up behavior?"
   ]
  },
  {
   "cell_type": "code",
   "execution_count": 25,
   "metadata": {
    "scrolled": true
   },
   "outputs": [
    {
     "data": {
      "text/plain": [
       "37.763757825968604"
      ]
     },
     "execution_count": 25,
     "metadata": {},
     "output_type": "execute_result"
    }
   ],
   "source": [
    "df.Age[showed].mean()"
   ]
  },
  {
   "cell_type": "code",
   "execution_count": 26,
   "metadata": {
    "scrolled": false
   },
   "outputs": [
    {
     "data": {
      "text/plain": [
       "34.295580853352455"
      ]
     },
     "execution_count": 26,
     "metadata": {},
     "output_type": "execute_result"
    }
   ],
   "source": [
    "df.Age[not_showed].mean()"
   ]
  },
  {
   "cell_type": "markdown",
   "metadata": {},
   "source": [
    "There is not much difference between the mean ages of the patients who showed up (37.76) and who did not (34.29)."
   ]
  },
  {
   "cell_type": "markdown",
   "metadata": {},
   "source": [
    "#### Display the distribution of age of the patients who showed up and who did not in the same graph."
   ]
  },
  {
   "cell_type": "code",
   "execution_count": 27,
   "metadata": {},
   "outputs": [],
   "source": [
    "# Set the style\n",
    "sb.set(style=\"darkgrid\")"
   ]
  },
  {
   "cell_type": "code",
   "execution_count": 28,
   "metadata": {},
   "outputs": [
    {
     "data": {
      "image/png": "[encoded data removed]",
      "text/plain": [
       "<matplotlib.figure.Figure at 0x7fdffbf98e10>"
      ]
     },
     "metadata": {},
     "output_type": "display_data"
    }
   ],
   "source": [
    "df.Age[showed].hist(alpha=0.5, label = 'Showed', figsize=(8,6));\n",
    "df.Age[not_showed].hist(alpha=0.5, label = 'Not Showed', figsize=(8,6));\n",
    "plt.legend();\n",
    "plt.xlabel('Age');\n",
    "plt.ylabel('Number of Patients');\n",
    "plt.title(\"Age Distribution based on Showing up Behavior\" );\n"
   ]
  },
  {
   "cell_type": "markdown",
   "metadata": {},
   "source": [
    "In each age group the number of the showed patients are much more higher than the unshowed patients."
   ]
  },
  {
   "cell_type": "markdown",
   "metadata": {},
   "source": [
    "#### Find the probability of not showing up based on age."
   ]
  },
  {
   "cell_type": "code",
   "execution_count": 29,
   "metadata": {},
   "outputs": [],
   "source": [
    "# create a function that finds the probability of not showing up wrt an independent variable\n",
    "def prob_no_show(dataset, name):    \n",
    "    df_No_show = pd.crosstab(index = dataset[name], columns = dataset['No_show']).reset_index()\n",
    "    # calculate probability of not showing up\n",
    "    df_No_show['prob_no_show'] = df_No_show[1] / (df_No_show[1] + df_No_show[0])\n",
    "    print(\"The age with the lowest not showing up probability is {} \".format(df_No_show['prob_no_show'].idxmin()))\n",
    "    print(\"The age with the highest not showing up probability is {} \".format(df_No_show['prob_no_show'].idxmax()))\n",
    "\n",
    "    return df_No_show[[name, 'prob_no_show']]"
   ]
  },
  {
   "cell_type": "markdown",
   "metadata": {},
   "source": [
    "#### Display the relationship between Age and Probability of Missing Appointment"
   ]
  },
  {
   "cell_type": "code",
   "execution_count": 30,
   "metadata": {
    "scrolled": false
   },
   "outputs": [
    {
     "name": "stdout",
     "output_type": "stream",
     "text": [
      "The age with the lowest not showing up probability is 88 \n",
      "The age with the highest not showing up probability is 14 \n"
     ]
    },
    {
     "data": {
      "image/png": "[encoded data removed]",
      "text/plain": [
       "<matplotlib.figure.Figure at 0x7fdffc022e10>"
      ]
     },
     "metadata": {},
     "output_type": "display_data"
    }
   ],
   "source": [
    "sb.lmplot(data = prob_no_show(df, 'Age'), x = 'Age', y = 'prob_no_show', fit_reg = True, size=6);\n",
    "plt.title('Probability of Missing Appointments wrt Age');\n",
    "plt.ylabel('Probability of not showing up');"
   ]
  },
  {
   "cell_type": "markdown",
   "metadata": {},
   "source": [
    "- The probability of not showing up is lower around at age 0 and ages between 50 and 100. It is lowest at age 88.\n",
    "- It is higher around at ages between 10 and 40, and highest at age 14.\n",
    "- In general, the probability of not showing is decrasing in Age.\n",
    "- We can consider age as an predictor of showing up."
   ]
  },
  {
   "cell_type": "markdown",
   "metadata": {},
   "source": [
    "### What is the relationship between showing up and gender?"
   ]
  },
  {
   "cell_type": "code",
   "execution_count": 31,
   "metadata": {},
   "outputs": [
    {
     "data": {
      "text/plain": [
       "Gender  No_show\n",
       "F       0          57214\n",
       "        1          14588\n",
       "M       0          30954\n",
       "        1           7724\n",
       "Name: No_show, dtype: int64"
      ]
     },
     "execution_count": 31,
     "metadata": {},
     "output_type": "execute_result"
    }
   ],
   "source": [
    "df.groupby('Gender').No_show.value_counts()\n"
   ]
  },
  {
   "cell_type": "markdown",
   "metadata": {},
   "source": [
    "The majority of the patients are females."
   ]
  },
  {
   "cell_type": "code",
   "execution_count": 32,
   "metadata": {
    "scrolled": false
   },
   "outputs": [
    {
     "data": {
      "image/png": "[encoded data removed]",
      "text/plain": [
       "<matplotlib.figure.Figure at 0x7fdffc396198>"
      ]
     },
     "metadata": {},
     "output_type": "display_data"
    }
   ],
   "source": [
    "df.groupby('Gender').No_show.mean().plot(kind='bar', color=base_color);\n",
    "plt.xlabel('Gender');\n",
    "plt.ylabel('Probability of not showing up');\n",
    "plt.title(\"Missing Appointments and Gender\" );"
   ]
  },
  {
   "cell_type": "markdown",
   "metadata": {},
   "source": [
    "The probability of the women did not show is just a little bit higher than the probability of men."
   ]
  },
  {
   "cell_type": "markdown",
   "metadata": {},
   "source": [
    "### How are recieving SMS and showing up related?"
   ]
  },
  {
   "cell_type": "code",
   "execution_count": 33,
   "metadata": {},
   "outputs": [
    {
     "data": {
      "image/png": "[encoded data removed]",
      "text/plain": [
       "<matplotlib.figure.Figure at 0x7fe02d7c0f98>"
      ]
     },
     "metadata": {},
     "output_type": "display_data"
    }
   ],
   "source": [
    "df.groupby('SMS_received').No_show.mean().plot(kind='bar', color=base_color)\n",
    "plt.xlabel('SMS recieved');\n",
    "plt.ylabel('Probability of not showing up');\n",
    "plt.title(\"Effect of Receiving SMS on No Showing up\" );"
   ]
  },
  {
   "cell_type": "markdown",
   "metadata": {},
   "source": [
    "Recieving SMS seems to have a negative effect on patients showing up."
   ]
  },
  {
   "cell_type": "markdown",
   "metadata": {},
   "source": [
    "###  How does recieving SMS affect showing up behavior based on gender?"
   ]
  },
  {
   "cell_type": "code",
   "execution_count": 34,
   "metadata": {
    "scrolled": false
   },
   "outputs": [
    {
     "data": {
      "image/png": "[encoded data removed]",
      "text/plain": [
       "<matplotlib.figure.Figure at 0x7fdffc05ada0>"
      ]
     },
     "metadata": {},
     "output_type": "display_data"
    }
   ],
   "source": [
    "df.groupby(['Gender', 'SMS_received']).No_show.mean().plot(kind='bar', color=base_color);\n",
    "plt.xlabel('Gender, SMS recieved');\n",
    "plt.ylabel('Probability of not showing up');\n",
    "plt.title(\"Effect of Receiving SMS on No Showing up Based on Gender\" );"
   ]
  },
  {
   "cell_type": "markdown",
   "metadata": {},
   "source": [
    "The probability of showing up is highest for women who did not recieve SMS and it is lowest for women who did recieved SMS."
   ]
  },
  {
   "cell_type": "markdown",
   "metadata": {},
   "source": [
    "### What is the relationship between showing up and handicap levels?"
   ]
  },
  {
   "cell_type": "code",
   "execution_count": 35,
   "metadata": {},
   "outputs": [
    {
     "data": {
      "image/png": "[encoded data removed]",
      "text/plain": [
       "<matplotlib.figure.Figure at 0x7fdffb668ac8>"
      ]
     },
     "metadata": {},
     "output_type": "display_data"
    }
   ],
   "source": [
    "df.groupby('Handicap').No_show.mean().plot(kind='bar', color=base_color);\n",
    "plt.xlabel('Handicap Level');\n",
    "plt.ylabel('Probability of not showing up');\n",
    "plt.title(\"Effect of Handicap Level on Missing Appointments\" );"
   ]
  },
  {
   "cell_type": "markdown",
   "metadata": {},
   "source": [
    "The patients who has only one handicap showed up to their appointments most. The probability of not showing up is increasing with handicap level except the patients with no handicap. Their probability is almost the same with the probability of patients with two handicaps."
   ]
  },
  {
   "cell_type": "markdown",
   "metadata": {},
   "source": [
    "### How does enrolling in Bolsa Familia program affect showing up behavior?"
   ]
  },
  {
   "cell_type": "code",
   "execution_count": 36,
   "metadata": {
    "scrolled": false
   },
   "outputs": [
    {
     "data": {
      "image/png": "[encoded data removed]",
      "text/plain": [
       "<matplotlib.figure.Figure at 0x7fdffc20e0f0>"
      ]
     },
     "metadata": {},
     "output_type": "display_data"
    }
   ],
   "source": [
    "df.groupby('Scholarship').No_show.mean().plot(kind='bar', color=base_color);\n",
    "plt.xlabel('Bolsa Familia');\n",
    "plt.ylabel('Probability of not showing up');\n",
    "plt.title(\"Effect of Enrolling in Welfare Program on No Showing up\" );"
   ]
  },
  {
   "cell_type": "markdown",
   "metadata": {},
   "source": [
    "Interestingly, patients who enrolled in welfare program missed their appointments more than the patients who did not enrolled in the program."
   ]
  },
  {
   "cell_type": "markdown",
   "metadata": {},
   "source": [
    "### How does holding scholarship affect showing up behavior based on gender?"
   ]
  },
  {
   "cell_type": "code",
   "execution_count": 37,
   "metadata": {},
   "outputs": [
    {
     "data": {
      "image/png": "[encoded data removed]",
      "text/plain": [
       "<matplotlib.figure.Figure at 0x7fdffdda0a58>"
      ]
     },
     "metadata": {},
     "output_type": "display_data"
    }
   ],
   "source": [
    "df.groupby(['Gender', 'Scholarship']).No_show.mean().plot(kind='bar', color=base_color);\n",
    "plt.xlabel('Gender, Bolsa Familia');\n",
    "plt.ylabel('Probability of not showing up');\n",
    "plt.title(\"Effect of Enrolling in Welfare Program on Showing up Behavior Based on Gender\" );"
   ]
  },
  {
   "cell_type": "markdown",
   "metadata": {},
   "source": [
    "The females who are enrolled in the welfare program missed their appointments most, the males who are enrolled in the welfare program follow them but the proportions are very close."
   ]
  },
  {
   "cell_type": "markdown",
   "metadata": {},
   "source": [
    "### What is the effect of each diagnosis on showing up behavior based on gender?"
   ]
  },
  {
   "cell_type": "markdown",
   "metadata": {},
   "source": [
    "#### Investigate the relationship between showing up behavior and Hypertension based on gender"
   ]
  },
  {
   "cell_type": "code",
   "execution_count": 38,
   "metadata": {},
   "outputs": [
    {
     "data": {
      "image/png": "[encoded data removed]",
      "text/plain": [
       "<matplotlib.figure.Figure at 0x7fdffc0c0f98>"
      ]
     },
     "metadata": {},
     "output_type": "display_data"
    }
   ],
   "source": [
    "df.groupby(['Gender', 'Hypertension']).No_show.mean().plot(kind='bar', color=base_color)\n",
    "plt.xlabel('Gender, Hypertension');\n",
    "plt.ylabel('Probability of not showing up');\n",
    "plt.title(\"Effect of Hypertension on Showing up Behavior Based on Gender\" );"
   ]
  },
  {
   "cell_type": "markdown",
   "metadata": {},
   "source": [
    "Both females and males with hypertension have a higher probability to show up than the patients who do not have hypertension."
   ]
  },
  {
   "cell_type": "markdown",
   "metadata": {},
   "source": [
    "#### Investigate the relationship between showing up behavior and Diabetes based on gender"
   ]
  },
  {
   "cell_type": "code",
   "execution_count": 39,
   "metadata": {},
   "outputs": [
    {
     "data": {
      "image/png": "[encoded data removed]",
      "text/plain": [
       "<matplotlib.figure.Figure at 0x7fdffc26a5c0>"
      ]
     },
     "metadata": {},
     "output_type": "display_data"
    }
   ],
   "source": [
    "df.groupby(['Gender', 'Diabetes']).No_show.mean().plot(kind='bar', color=base_color)\n",
    "plt.xlabel('Gender, Diabetes');\n",
    "plt.ylabel('Probability of not showing up');\n",
    "plt.title(\"Effect of Diabetes on Showing up Behavior Based on Gender\" );"
   ]
  },
  {
   "cell_type": "markdown",
   "metadata": {},
   "source": [
    "The result is very similar to the one with Hypertension for the females and males who have diabetes."
   ]
  },
  {
   "cell_type": "markdown",
   "metadata": {},
   "source": [
    "#### Investigate the relationship between showing up behavior and Alcoholism based on gender"
   ]
  },
  {
   "cell_type": "code",
   "execution_count": 40,
   "metadata": {},
   "outputs": [
    {
     "data": {
      "image/png": "[encoded data removed]",
      "text/plain": [
       "<matplotlib.figure.Figure at 0x7fdffc248cc0>"
      ]
     },
     "metadata": {},
     "output_type": "display_data"
    }
   ],
   "source": [
    "df.groupby(['Gender', 'Alcoholism']).No_show.mean().plot(kind='bar', color=base_color)\n",
    "plt.xlabel('Gender, Alcoholism');\n",
    "plt.ylabel('Probability of not showing up');\n",
    "plt.title(\"Effect of Alcoholism on Showing up Behavior Based on Gender\" );"
   ]
  },
  {
   "cell_type": "markdown",
   "metadata": {},
   "source": [
    "Males who have alcholism showed up more than both the males who do not have it and the females in general. On the other hand, probability of females with alcoholism showing up is less than the probability of females who do not have it."
   ]
  },
  {
   "cell_type": "markdown",
   "metadata": {},
   "source": [
    "Overall, approximately 20 percent of the patients with a diagnosis showed up to their appointments."
   ]
  },
  {
   "cell_type": "markdown",
   "metadata": {},
   "source": [
    "### How the appointment day and the showing up is related?"
   ]
  },
  {
   "cell_type": "markdown",
   "metadata": {},
   "source": [
    "#### Display the number of patients who showed and who did not in each day of the week"
   ]
  },
  {
   "cell_type": "code",
   "execution_count": 41,
   "metadata": {
    "scrolled": true
   },
   "outputs": [
    {
     "data": {
      "image/png": "[encoded data removed]",
      "text/plain": [
       "<matplotlib.figure.Figure at 0x7fdffa950da0>"
      ]
     },
     "metadata": {},
     "output_type": "display_data"
    }
   ],
   "source": [
    "df.Weekday[showed].value_counts().plot(kind = 'bar', alpha=0.5, color = base_color, label = 'Showed');\n",
    "df.Weekday[not_showed].value_counts().plot(kind = 'bar', alpha=0.5,  color = 'orange', label = 'Not showed');\n",
    "plt.legend();\n",
    "plt.xlabel('Weekdays');\n",
    "plt.ylabel('Number of Patients');\n",
    "plt.title(\"Distribution of Weekdays Based on Showing up Behavior\" );"
   ]
  },
  {
   "cell_type": "markdown",
   "metadata": {},
   "source": [
    "In each day of the week, the number of patients who missed their appointment is much more less than the number of patients who did not. In both cases, the number of patients is decreasing from Monday to Sunday. "
   ]
  },
  {
   "cell_type": "markdown",
   "metadata": {},
   "source": [
    "#### Look at the relationship between missing appointments and the weekdays"
   ]
  },
  {
   "cell_type": "code",
   "execution_count": 42,
   "metadata": {
    "scrolled": true
   },
   "outputs": [
    {
     "data": {
      "image/png": "[encoded data removed]",
      "text/plain": [
       "<matplotlib.figure.Figure at 0x7fdffc327860>"
      ]
     },
     "metadata": {},
     "output_type": "display_data"
    }
   ],
   "source": [
    "df.groupby('Weekday').No_show.mean().plot(kind='bar', color=base_color)\n",
    "plt.xlabel('Weekdays');\n",
    "plt.ylabel('Probability of not showing up');\n",
    "plt.title(\"Effect of Weekdays on Missing Appointments\" );\n"
   ]
  },
  {
   "cell_type": "markdown",
   "metadata": {},
   "source": [
    "The probability of missing an appointment is highest on Friday and lowest on Saturday."
   ]
  },
  {
   "cell_type": "markdown",
   "metadata": {},
   "source": [
    "### How does the time difference between the scheluded day and appointment day affect the showing up behavior? "
   ]
  },
  {
   "cell_type": "code",
   "execution_count": 43,
   "metadata": {},
   "outputs": [
    {
     "data": {
      "text/html": [
       "<div>\n",
       "<style scoped>\n",
       "    .dataframe tbody tr th:only-of-type {\n",
       "        vertical-align: middle;\n",
       "    }\n",
       "\n",
       "    .dataframe tbody tr th {\n",
       "        vertical-align: top;\n",
       "    }\n",
       "\n",
       "    .dataframe thead th {\n",
       "        text-align: right;\n",
       "    }\n",
       "</style>\n",
       "<table border=\"1\" class=\"dataframe\">\n",
       "  <thead>\n",
       "    <tr style=\"text-align: right;\">\n",
       "      <th></th>\n",
       "      <th>PatientId</th>\n",
       "      <th>AppointmentId</th>\n",
       "      <th>Gender</th>\n",
       "      <th>ScheduledDay</th>\n",
       "      <th>AppointmentDay</th>\n",
       "      <th>Age</th>\n",
       "      <th>Neighbourhood</th>\n",
       "      <th>Scholarship</th>\n",
       "      <th>Hypertension</th>\n",
       "      <th>Diabetes</th>\n",
       "      <th>Alcoholism</th>\n",
       "      <th>Handicap</th>\n",
       "      <th>SMS_received</th>\n",
       "      <th>No_show</th>\n",
       "      <th>Weekday</th>\n",
       "      <th>Elapsed_time</th>\n",
       "    </tr>\n",
       "  </thead>\n",
       "  <tbody>\n",
       "    <tr>\n",
       "      <th>68</th>\n",
       "      <td>5.43417573869e+12</td>\n",
       "      <td>5552915</td>\n",
       "      <td>F</td>\n",
       "      <td>2016-06-04</td>\n",
       "      <td>2016-04-29</td>\n",
       "      <td>69</td>\n",
       "      <td>JARDIM DA PENHA</td>\n",
       "      <td>0</td>\n",
       "      <td>1</td>\n",
       "      <td>0</td>\n",
       "      <td>0</td>\n",
       "      <td>0</td>\n",
       "      <td>1</td>\n",
       "      <td>0</td>\n",
       "      <td>5</td>\n",
       "      <td>-36</td>\n",
       "    </tr>\n",
       "    <tr>\n",
       "      <th>69</th>\n",
       "      <td>793821379148</td>\n",
       "      <td>5552917</td>\n",
       "      <td>F</td>\n",
       "      <td>2016-06-04</td>\n",
       "      <td>2016-04-29</td>\n",
       "      <td>58</td>\n",
       "      <td>SANTO ANDRÉ</td>\n",
       "      <td>0</td>\n",
       "      <td>0</td>\n",
       "      <td>0</td>\n",
       "      <td>0</td>\n",
       "      <td>0</td>\n",
       "      <td>1</td>\n",
       "      <td>0</td>\n",
       "      <td>5</td>\n",
       "      <td>-36</td>\n",
       "    </tr>\n",
       "    <tr>\n",
       "      <th>70</th>\n",
       "      <td>6.71448948558e+13</td>\n",
       "      <td>5552914</td>\n",
       "      <td>M</td>\n",
       "      <td>2016-06-04</td>\n",
       "      <td>2016-04-29</td>\n",
       "      <td>62</td>\n",
       "      <td>SOLON BORGES</td>\n",
       "      <td>0</td>\n",
       "      <td>0</td>\n",
       "      <td>0</td>\n",
       "      <td>0</td>\n",
       "      <td>0</td>\n",
       "      <td>0</td>\n",
       "      <td>0</td>\n",
       "      <td>5</td>\n",
       "      <td>-36</td>\n",
       "    </tr>\n",
       "    <tr>\n",
       "      <th>71</th>\n",
       "      <td>1.84631773862e+12</td>\n",
       "      <td>5552936</td>\n",
       "      <td>F</td>\n",
       "      <td>2016-06-04</td>\n",
       "      <td>2016-04-29</td>\n",
       "      <td>30</td>\n",
       "      <td>BONFIM</td>\n",
       "      <td>1</td>\n",
       "      <td>0</td>\n",
       "      <td>0</td>\n",
       "      <td>0</td>\n",
       "      <td>0</td>\n",
       "      <td>1</td>\n",
       "      <td>0</td>\n",
       "      <td>5</td>\n",
       "      <td>-36</td>\n",
       "    </tr>\n",
       "    <tr>\n",
       "      <th>73</th>\n",
       "      <td>4.54213161295e+13</td>\n",
       "      <td>5552934</td>\n",
       "      <td>F</td>\n",
       "      <td>2016-06-04</td>\n",
       "      <td>2016-04-29</td>\n",
       "      <td>68</td>\n",
       "      <td>REPÚBLICA</td>\n",
       "      <td>0</td>\n",
       "      <td>1</td>\n",
       "      <td>1</td>\n",
       "      <td>0</td>\n",
       "      <td>0</td>\n",
       "      <td>1</td>\n",
       "      <td>0</td>\n",
       "      <td>5</td>\n",
       "      <td>-36</td>\n",
       "    </tr>\n",
       "    <tr>\n",
       "      <th>97</th>\n",
       "      <td>5.25334248884e+12</td>\n",
       "      <td>5565493</td>\n",
       "      <td>F</td>\n",
       "      <td>2016-11-04</td>\n",
       "      <td>2016-04-29</td>\n",
       "      <td>35</td>\n",
       "      <td>BONFIM</td>\n",
       "      <td>0</td>\n",
       "      <td>0</td>\n",
       "      <td>0</td>\n",
       "      <td>0</td>\n",
       "      <td>0</td>\n",
       "      <td>1</td>\n",
       "      <td>0</td>\n",
       "      <td>5</td>\n",
       "      <td>-189</td>\n",
       "    </tr>\n",
       "    <tr>\n",
       "      <th>98</th>\n",
       "      <td>3.72596436557e+14</td>\n",
       "      <td>5571906</td>\n",
       "      <td>F</td>\n",
       "      <td>2016-12-04</td>\n",
       "      <td>2016-04-29</td>\n",
       "      <td>51</td>\n",
       "      <td>BONFIM</td>\n",
       "      <td>0</td>\n",
       "      <td>0</td>\n",
       "      <td>0</td>\n",
       "      <td>0</td>\n",
       "      <td>0</td>\n",
       "      <td>1</td>\n",
       "      <td>0</td>\n",
       "      <td>5</td>\n",
       "      <td>-219</td>\n",
       "    </tr>\n",
       "    <tr>\n",
       "      <th>100</th>\n",
       "      <td>1.66338799399e+14</td>\n",
       "      <td>5574764</td>\n",
       "      <td>F</td>\n",
       "      <td>2016-12-04</td>\n",
       "      <td>2016-04-29</td>\n",
       "      <td>20</td>\n",
       "      <td>BONFIM</td>\n",
       "      <td>0</td>\n",
       "      <td>0</td>\n",
       "      <td>0</td>\n",
       "      <td>0</td>\n",
       "      <td>0</td>\n",
       "      <td>1</td>\n",
       "      <td>0</td>\n",
       "      <td>5</td>\n",
       "      <td>-219</td>\n",
       "    </tr>\n",
       "    <tr>\n",
       "      <th>109</th>\n",
       "      <td>1.29598834359e+14</td>\n",
       "      <td>5572081</td>\n",
       "      <td>F</td>\n",
       "      <td>2016-12-04</td>\n",
       "      <td>2016-04-29</td>\n",
       "      <td>34</td>\n",
       "      <td>SANTO ANTÔNIO</td>\n",
       "      <td>0</td>\n",
       "      <td>0</td>\n",
       "      <td>0</td>\n",
       "      <td>0</td>\n",
       "      <td>0</td>\n",
       "      <td>1</td>\n",
       "      <td>0</td>\n",
       "      <td>5</td>\n",
       "      <td>-219</td>\n",
       "    </tr>\n",
       "    <tr>\n",
       "      <th>110</th>\n",
       "      <td>3.73742973241e+12</td>\n",
       "      <td>5574527</td>\n",
       "      <td>F</td>\n",
       "      <td>2016-12-04</td>\n",
       "      <td>2016-04-29</td>\n",
       "      <td>34</td>\n",
       "      <td>SANTO ANTÔNIO</td>\n",
       "      <td>0</td>\n",
       "      <td>0</td>\n",
       "      <td>0</td>\n",
       "      <td>0</td>\n",
       "      <td>0</td>\n",
       "      <td>1</td>\n",
       "      <td>0</td>\n",
       "      <td>5</td>\n",
       "      <td>-219</td>\n",
       "    </tr>\n",
       "    <tr>\n",
       "      <th>111</th>\n",
       "      <td>377242196277</td>\n",
       "      <td>5574534</td>\n",
       "      <td>F</td>\n",
       "      <td>2016-12-04</td>\n",
       "      <td>2016-04-29</td>\n",
       "      <td>56</td>\n",
       "      <td>SANTO ANTÔNIO</td>\n",
       "      <td>0</td>\n",
       "      <td>1</td>\n",
       "      <td>0</td>\n",
       "      <td>0</td>\n",
       "      <td>0</td>\n",
       "      <td>1</td>\n",
       "      <td>0</td>\n",
       "      <td>5</td>\n",
       "      <td>-219</td>\n",
       "    </tr>\n",
       "    <tr>\n",
       "      <th>116</th>\n",
       "      <td>4.67333544638e+12</td>\n",
       "      <td>5574680</td>\n",
       "      <td>F</td>\n",
       "      <td>2016-12-04</td>\n",
       "      <td>2016-04-29</td>\n",
       "      <td>18</td>\n",
       "      <td>SANTO ANTÔNIO</td>\n",
       "      <td>0</td>\n",
       "      <td>0</td>\n",
       "      <td>0</td>\n",
       "      <td>0</td>\n",
       "      <td>0</td>\n",
       "      <td>1</td>\n",
       "      <td>1</td>\n",
       "      <td>5</td>\n",
       "      <td>-219</td>\n",
       "    </tr>\n",
       "    <tr>\n",
       "      <th>119</th>\n",
       "      <td>329315252114</td>\n",
       "      <td>5546448</td>\n",
       "      <td>F</td>\n",
       "      <td>2016-05-04</td>\n",
       "      <td>2016-04-29</td>\n",
       "      <td>33</td>\n",
       "      <td>MÁRIO CYPRESTE</td>\n",
       "      <td>0</td>\n",
       "      <td>0</td>\n",
       "      <td>0</td>\n",
       "      <td>0</td>\n",
       "      <td>0</td>\n",
       "      <td>1</td>\n",
       "      <td>0</td>\n",
       "      <td>5</td>\n",
       "      <td>-5</td>\n",
       "    </tr>\n",
       "    <tr>\n",
       "      <th>125</th>\n",
       "      <td>9.99721284935e+13</td>\n",
       "      <td>5542592</td>\n",
       "      <td>F</td>\n",
       "      <td>2016-05-04</td>\n",
       "      <td>2016-04-29</td>\n",
       "      <td>36</td>\n",
       "      <td>MÁRIO CYPRESTE</td>\n",
       "      <td>0</td>\n",
       "      <td>1</td>\n",
       "      <td>0</td>\n",
       "      <td>0</td>\n",
       "      <td>0</td>\n",
       "      <td>1</td>\n",
       "      <td>0</td>\n",
       "      <td>5</td>\n",
       "      <td>-5</td>\n",
       "    </tr>\n",
       "    <tr>\n",
       "      <th>127</th>\n",
       "      <td>4.22416586982e+12</td>\n",
       "      <td>5561194</td>\n",
       "      <td>M</td>\n",
       "      <td>2016-08-04</td>\n",
       "      <td>2016-04-29</td>\n",
       "      <td>42</td>\n",
       "      <td>PRAIA DO SUÁ</td>\n",
       "      <td>0</td>\n",
       "      <td>1</td>\n",
       "      <td>1</td>\n",
       "      <td>0</td>\n",
       "      <td>0</td>\n",
       "      <td>1</td>\n",
       "      <td>0</td>\n",
       "      <td>5</td>\n",
       "      <td>-97</td>\n",
       "    </tr>\n",
       "    <tr>\n",
       "      <th>128</th>\n",
       "      <td>9.48869664473e+14</td>\n",
       "      <td>5571842</td>\n",
       "      <td>F</td>\n",
       "      <td>2016-12-04</td>\n",
       "      <td>2016-04-29</td>\n",
       "      <td>34</td>\n",
       "      <td>PRAIA DO SUÁ</td>\n",
       "      <td>1</td>\n",
       "      <td>0</td>\n",
       "      <td>0</td>\n",
       "      <td>0</td>\n",
       "      <td>0</td>\n",
       "      <td>1</td>\n",
       "      <td>1</td>\n",
       "      <td>5</td>\n",
       "      <td>-219</td>\n",
       "    </tr>\n",
       "    <tr>\n",
       "      <th>129</th>\n",
       "      <td>5.53736675257e+13</td>\n",
       "      <td>5560735</td>\n",
       "      <td>F</td>\n",
       "      <td>2016-08-04</td>\n",
       "      <td>2016-04-29</td>\n",
       "      <td>22</td>\n",
       "      <td>PRAIA DO SUÁ</td>\n",
       "      <td>0</td>\n",
       "      <td>0</td>\n",
       "      <td>0</td>\n",
       "      <td>0</td>\n",
       "      <td>0</td>\n",
       "      <td>1</td>\n",
       "      <td>1</td>\n",
       "      <td>5</td>\n",
       "      <td>-97</td>\n",
       "    </tr>\n",
       "    <tr>\n",
       "      <th>132</th>\n",
       "      <td>8.46858655833e+14</td>\n",
       "      <td>5560742</td>\n",
       "      <td>M</td>\n",
       "      <td>2016-08-04</td>\n",
       "      <td>2016-04-29</td>\n",
       "      <td>0</td>\n",
       "      <td>PRAIA DO SUÁ</td>\n",
       "      <td>0</td>\n",
       "      <td>0</td>\n",
       "      <td>0</td>\n",
       "      <td>0</td>\n",
       "      <td>0</td>\n",
       "      <td>1</td>\n",
       "      <td>1</td>\n",
       "      <td>5</td>\n",
       "      <td>-97</td>\n",
       "    </tr>\n",
       "    <tr>\n",
       "      <th>135</th>\n",
       "      <td>7.61158961667e+12</td>\n",
       "      <td>5560758</td>\n",
       "      <td>M</td>\n",
       "      <td>2016-08-04</td>\n",
       "      <td>2016-04-29</td>\n",
       "      <td>30</td>\n",
       "      <td>PRAIA DO SUÁ</td>\n",
       "      <td>0</td>\n",
       "      <td>0</td>\n",
       "      <td>0</td>\n",
       "      <td>0</td>\n",
       "      <td>0</td>\n",
       "      <td>1</td>\n",
       "      <td>1</td>\n",
       "      <td>5</td>\n",
       "      <td>-97</td>\n",
       "    </tr>\n",
       "    <tr>\n",
       "      <th>158</th>\n",
       "      <td>5.88494183238e+14</td>\n",
       "      <td>5574391</td>\n",
       "      <td>F</td>\n",
       "      <td>2016-12-04</td>\n",
       "      <td>2016-04-29</td>\n",
       "      <td>45</td>\n",
       "      <td>BONFIM</td>\n",
       "      <td>0</td>\n",
       "      <td>0</td>\n",
       "      <td>0</td>\n",
       "      <td>0</td>\n",
       "      <td>0</td>\n",
       "      <td>1</td>\n",
       "      <td>0</td>\n",
       "      <td>5</td>\n",
       "      <td>-219</td>\n",
       "    </tr>\n",
       "    <tr>\n",
       "      <th>159</th>\n",
       "      <td>698885816985</td>\n",
       "      <td>5551288</td>\n",
       "      <td>F</td>\n",
       "      <td>2016-06-04</td>\n",
       "      <td>2016-04-29</td>\n",
       "      <td>71</td>\n",
       "      <td>ANDORINHAS</td>\n",
       "      <td>0</td>\n",
       "      <td>1</td>\n",
       "      <td>1</td>\n",
       "      <td>0</td>\n",
       "      <td>0</td>\n",
       "      <td>1</td>\n",
       "      <td>0</td>\n",
       "      <td>5</td>\n",
       "      <td>-36</td>\n",
       "    </tr>\n",
       "    <tr>\n",
       "      <th>160</th>\n",
       "      <td>2.92298681382e+13</td>\n",
       "      <td>5562686</td>\n",
       "      <td>F</td>\n",
       "      <td>2016-08-04</td>\n",
       "      <td>2016-04-29</td>\n",
       "      <td>58</td>\n",
       "      <td>BONFIM</td>\n",
       "      <td>0</td>\n",
       "      <td>0</td>\n",
       "      <td>0</td>\n",
       "      <td>0</td>\n",
       "      <td>0</td>\n",
       "      <td>0</td>\n",
       "      <td>0</td>\n",
       "      <td>5</td>\n",
       "      <td>-97</td>\n",
       "    </tr>\n",
       "    <tr>\n",
       "      <th>161</th>\n",
       "      <td>2.54124825762e+14</td>\n",
       "      <td>5543795</td>\n",
       "      <td>F</td>\n",
       "      <td>2016-05-04</td>\n",
       "      <td>2016-04-29</td>\n",
       "      <td>38</td>\n",
       "      <td>BONFIM</td>\n",
       "      <td>0</td>\n",
       "      <td>0</td>\n",
       "      <td>0</td>\n",
       "      <td>0</td>\n",
       "      <td>0</td>\n",
       "      <td>1</td>\n",
       "      <td>1</td>\n",
       "      <td>5</td>\n",
       "      <td>-5</td>\n",
       "    </tr>\n",
       "    <tr>\n",
       "      <th>162</th>\n",
       "      <td>3.78518786354e+14</td>\n",
       "      <td>5551523</td>\n",
       "      <td>F</td>\n",
       "      <td>2016-06-04</td>\n",
       "      <td>2016-04-29</td>\n",
       "      <td>44</td>\n",
       "      <td>BONFIM</td>\n",
       "      <td>1</td>\n",
       "      <td>1</td>\n",
       "      <td>0</td>\n",
       "      <td>0</td>\n",
       "      <td>0</td>\n",
       "      <td>1</td>\n",
       "      <td>0</td>\n",
       "      <td>5</td>\n",
       "      <td>-36</td>\n",
       "    </tr>\n",
       "    <tr>\n",
       "      <th>165</th>\n",
       "      <td>2.76335241217e+12</td>\n",
       "      <td>5562536</td>\n",
       "      <td>F</td>\n",
       "      <td>2016-08-04</td>\n",
       "      <td>2016-04-29</td>\n",
       "      <td>39</td>\n",
       "      <td>BONFIM</td>\n",
       "      <td>1</td>\n",
       "      <td>0</td>\n",
       "      <td>0</td>\n",
       "      <td>0</td>\n",
       "      <td>0</td>\n",
       "      <td>1</td>\n",
       "      <td>0</td>\n",
       "      <td>5</td>\n",
       "      <td>-97</td>\n",
       "    </tr>\n",
       "    <tr>\n",
       "      <th>166</th>\n",
       "      <td>9.66685725944e+12</td>\n",
       "      <td>5557543</td>\n",
       "      <td>F</td>\n",
       "      <td>2016-07-04</td>\n",
       "      <td>2016-04-29</td>\n",
       "      <td>42</td>\n",
       "      <td>BONFIM</td>\n",
       "      <td>1</td>\n",
       "      <td>0</td>\n",
       "      <td>0</td>\n",
       "      <td>0</td>\n",
       "      <td>0</td>\n",
       "      <td>1</td>\n",
       "      <td>1</td>\n",
       "      <td>5</td>\n",
       "      <td>-66</td>\n",
       "    </tr>\n",
       "    <tr>\n",
       "      <th>167</th>\n",
       "      <td>9.99894816664e+12</td>\n",
       "      <td>5545692</td>\n",
       "      <td>F</td>\n",
       "      <td>2016-05-04</td>\n",
       "      <td>2016-04-29</td>\n",
       "      <td>35</td>\n",
       "      <td>BONFIM</td>\n",
       "      <td>0</td>\n",
       "      <td>0</td>\n",
       "      <td>0</td>\n",
       "      <td>0</td>\n",
       "      <td>0</td>\n",
       "      <td>1</td>\n",
       "      <td>1</td>\n",
       "      <td>5</td>\n",
       "      <td>-5</td>\n",
       "    </tr>\n",
       "    <tr>\n",
       "      <th>169</th>\n",
       "      <td>7.53157769835e+14</td>\n",
       "      <td>5545018</td>\n",
       "      <td>F</td>\n",
       "      <td>2016-05-04</td>\n",
       "      <td>2016-04-29</td>\n",
       "      <td>50</td>\n",
       "      <td>BONFIM</td>\n",
       "      <td>1</td>\n",
       "      <td>0</td>\n",
       "      <td>0</td>\n",
       "      <td>0</td>\n",
       "      <td>0</td>\n",
       "      <td>1</td>\n",
       "      <td>0</td>\n",
       "      <td>5</td>\n",
       "      <td>-5</td>\n",
       "    </tr>\n",
       "    <tr>\n",
       "      <th>217</th>\n",
       "      <td>3.86214311513e+13</td>\n",
       "      <td>5555546</td>\n",
       "      <td>F</td>\n",
       "      <td>2016-07-04</td>\n",
       "      <td>2016-04-29</td>\n",
       "      <td>75</td>\n",
       "      <td>ANDORINHAS</td>\n",
       "      <td>0</td>\n",
       "      <td>1</td>\n",
       "      <td>0</td>\n",
       "      <td>0</td>\n",
       "      <td>0</td>\n",
       "      <td>1</td>\n",
       "      <td>0</td>\n",
       "      <td>5</td>\n",
       "      <td>-66</td>\n",
       "    </tr>\n",
       "    <tr>\n",
       "      <th>218</th>\n",
       "      <td>8.48584751445e+14</td>\n",
       "      <td>5559082</td>\n",
       "      <td>F</td>\n",
       "      <td>2016-08-04</td>\n",
       "      <td>2016-04-29</td>\n",
       "      <td>59</td>\n",
       "      <td>ANDORINHAS</td>\n",
       "      <td>0</td>\n",
       "      <td>1</td>\n",
       "      <td>0</td>\n",
       "      <td>0</td>\n",
       "      <td>0</td>\n",
       "      <td>1</td>\n",
       "      <td>0</td>\n",
       "      <td>5</td>\n",
       "      <td>-97</td>\n",
       "    </tr>\n",
       "    <tr>\n",
       "      <th>...</th>\n",
       "      <td>...</td>\n",
       "      <td>...</td>\n",
       "      <td>...</td>\n",
       "      <td>...</td>\n",
       "      <td>...</td>\n",
       "      <td>...</td>\n",
       "      <td>...</td>\n",
       "      <td>...</td>\n",
       "      <td>...</td>\n",
       "      <td>...</td>\n",
       "      <td>...</td>\n",
       "      <td>...</td>\n",
       "      <td>...</td>\n",
       "      <td>...</td>\n",
       "      <td>...</td>\n",
       "      <td>...</td>\n",
       "    </tr>\n",
       "    <tr>\n",
       "      <th>110365</th>\n",
       "      <td>1.55285439983e+13</td>\n",
       "      <td>5659360</td>\n",
       "      <td>F</td>\n",
       "      <td>2016-04-05</td>\n",
       "      <td>2016-02-06</td>\n",
       "      <td>4</td>\n",
       "      <td>RESISTÊNCIA</td>\n",
       "      <td>0</td>\n",
       "      <td>0</td>\n",
       "      <td>0</td>\n",
       "      <td>0</td>\n",
       "      <td>0</td>\n",
       "      <td>1</td>\n",
       "      <td>1</td>\n",
       "      <td>6</td>\n",
       "      <td>-59</td>\n",
       "    </tr>\n",
       "    <tr>\n",
       "      <th>110366</th>\n",
       "      <td>4.23482328933e+13</td>\n",
       "      <td>5734960</td>\n",
       "      <td>F</td>\n",
       "      <td>2016-05-24</td>\n",
       "      <td>2016-02-06</td>\n",
       "      <td>58</td>\n",
       "      <td>RESISTÊNCIA</td>\n",
       "      <td>0</td>\n",
       "      <td>0</td>\n",
       "      <td>0</td>\n",
       "      <td>0</td>\n",
       "      <td>0</td>\n",
       "      <td>1</td>\n",
       "      <td>0</td>\n",
       "      <td>6</td>\n",
       "      <td>-108</td>\n",
       "    </tr>\n",
       "    <tr>\n",
       "      <th>110367</th>\n",
       "      <td>8.55881686291e+12</td>\n",
       "      <td>5630270</td>\n",
       "      <td>M</td>\n",
       "      <td>2016-04-27</td>\n",
       "      <td>2016-01-06</td>\n",
       "      <td>4</td>\n",
       "      <td>RESISTÊNCIA</td>\n",
       "      <td>0</td>\n",
       "      <td>0</td>\n",
       "      <td>0</td>\n",
       "      <td>0</td>\n",
       "      <td>0</td>\n",
       "      <td>0</td>\n",
       "      <td>0</td>\n",
       "      <td>3</td>\n",
       "      <td>-112</td>\n",
       "    </tr>\n",
       "    <tr>\n",
       "      <th>110369</th>\n",
       "      <td>8.55881686291e+12</td>\n",
       "      <td>5630269</td>\n",
       "      <td>M</td>\n",
       "      <td>2016-04-27</td>\n",
       "      <td>2016-01-06</td>\n",
       "      <td>4</td>\n",
       "      <td>RESISTÊNCIA</td>\n",
       "      <td>0</td>\n",
       "      <td>0</td>\n",
       "      <td>0</td>\n",
       "      <td>0</td>\n",
       "      <td>0</td>\n",
       "      <td>1</td>\n",
       "      <td>0</td>\n",
       "      <td>3</td>\n",
       "      <td>-112</td>\n",
       "    </tr>\n",
       "    <tr>\n",
       "      <th>110371</th>\n",
       "      <td>2.55863974791e+14</td>\n",
       "      <td>5655443</td>\n",
       "      <td>M</td>\n",
       "      <td>2016-03-05</td>\n",
       "      <td>2016-01-06</td>\n",
       "      <td>38</td>\n",
       "      <td>RESISTÊNCIA</td>\n",
       "      <td>0</td>\n",
       "      <td>0</td>\n",
       "      <td>0</td>\n",
       "      <td>0</td>\n",
       "      <td>0</td>\n",
       "      <td>1</td>\n",
       "      <td>1</td>\n",
       "      <td>3</td>\n",
       "      <td>-59</td>\n",
       "    </tr>\n",
       "    <tr>\n",
       "      <th>110373</th>\n",
       "      <td>333478555717</td>\n",
       "      <td>5655438</td>\n",
       "      <td>M</td>\n",
       "      <td>2016-03-05</td>\n",
       "      <td>2016-01-06</td>\n",
       "      <td>8</td>\n",
       "      <td>RESISTÊNCIA</td>\n",
       "      <td>0</td>\n",
       "      <td>0</td>\n",
       "      <td>0</td>\n",
       "      <td>0</td>\n",
       "      <td>0</td>\n",
       "      <td>1</td>\n",
       "      <td>1</td>\n",
       "      <td>3</td>\n",
       "      <td>-59</td>\n",
       "    </tr>\n",
       "    <tr>\n",
       "      <th>110375</th>\n",
       "      <td>7.18334461223e+12</td>\n",
       "      <td>5640964</td>\n",
       "      <td>F</td>\n",
       "      <td>2016-04-29</td>\n",
       "      <td>2016-01-06</td>\n",
       "      <td>19</td>\n",
       "      <td>RESISTÊNCIA</td>\n",
       "      <td>0</td>\n",
       "      <td>0</td>\n",
       "      <td>0</td>\n",
       "      <td>0</td>\n",
       "      <td>0</td>\n",
       "      <td>1</td>\n",
       "      <td>0</td>\n",
       "      <td>3</td>\n",
       "      <td>-114</td>\n",
       "    </tr>\n",
       "    <tr>\n",
       "      <th>110377</th>\n",
       "      <td>273965733489</td>\n",
       "      <td>5634132</td>\n",
       "      <td>F</td>\n",
       "      <td>2016-04-28</td>\n",
       "      <td>2016-01-06</td>\n",
       "      <td>19</td>\n",
       "      <td>RESISTÊNCIA</td>\n",
       "      <td>0</td>\n",
       "      <td>0</td>\n",
       "      <td>0</td>\n",
       "      <td>0</td>\n",
       "      <td>0</td>\n",
       "      <td>1</td>\n",
       "      <td>1</td>\n",
       "      <td>3</td>\n",
       "      <td>-113</td>\n",
       "    </tr>\n",
       "    <tr>\n",
       "      <th>110379</th>\n",
       "      <td>764561166426</td>\n",
       "      <td>5583030</td>\n",
       "      <td>F</td>\n",
       "      <td>2016-04-14</td>\n",
       "      <td>2016-01-06</td>\n",
       "      <td>16</td>\n",
       "      <td>RESISTÊNCIA</td>\n",
       "      <td>0</td>\n",
       "      <td>0</td>\n",
       "      <td>0</td>\n",
       "      <td>0</td>\n",
       "      <td>0</td>\n",
       "      <td>1</td>\n",
       "      <td>1</td>\n",
       "      <td>3</td>\n",
       "      <td>-99</td>\n",
       "    </tr>\n",
       "    <tr>\n",
       "      <th>110383</th>\n",
       "      <td>2.95727864526e+12</td>\n",
       "      <td>5582577</td>\n",
       "      <td>F</td>\n",
       "      <td>2016-04-14</td>\n",
       "      <td>2016-01-06</td>\n",
       "      <td>48</td>\n",
       "      <td>RESISTÊNCIA</td>\n",
       "      <td>0</td>\n",
       "      <td>1</td>\n",
       "      <td>0</td>\n",
       "      <td>0</td>\n",
       "      <td>0</td>\n",
       "      <td>0</td>\n",
       "      <td>1</td>\n",
       "      <td>3</td>\n",
       "      <td>-99</td>\n",
       "    </tr>\n",
       "    <tr>\n",
       "      <th>110386</th>\n",
       "      <td>2.95727864526e+12</td>\n",
       "      <td>5582576</td>\n",
       "      <td>F</td>\n",
       "      <td>2016-04-14</td>\n",
       "      <td>2016-01-06</td>\n",
       "      <td>48</td>\n",
       "      <td>RESISTÊNCIA</td>\n",
       "      <td>0</td>\n",
       "      <td>1</td>\n",
       "      <td>0</td>\n",
       "      <td>0</td>\n",
       "      <td>0</td>\n",
       "      <td>1</td>\n",
       "      <td>1</td>\n",
       "      <td>3</td>\n",
       "      <td>-99</td>\n",
       "    </tr>\n",
       "    <tr>\n",
       "      <th>110393</th>\n",
       "      <td>8.46193567638e+12</td>\n",
       "      <td>5676527</td>\n",
       "      <td>F</td>\n",
       "      <td>2016-09-05</td>\n",
       "      <td>2016-07-06</td>\n",
       "      <td>52</td>\n",
       "      <td>RESISTÊNCIA</td>\n",
       "      <td>0</td>\n",
       "      <td>0</td>\n",
       "      <td>0</td>\n",
       "      <td>0</td>\n",
       "      <td>0</td>\n",
       "      <td>1</td>\n",
       "      <td>0</td>\n",
       "      <td>3</td>\n",
       "      <td>-61</td>\n",
       "    </tr>\n",
       "    <tr>\n",
       "      <th>110399</th>\n",
       "      <td>9.43712325927e+13</td>\n",
       "      <td>5692938</td>\n",
       "      <td>F</td>\n",
       "      <td>2016-12-05</td>\n",
       "      <td>2016-07-06</td>\n",
       "      <td>17</td>\n",
       "      <td>RESISTÊNCIA</td>\n",
       "      <td>0</td>\n",
       "      <td>1</td>\n",
       "      <td>0</td>\n",
       "      <td>0</td>\n",
       "      <td>0</td>\n",
       "      <td>1</td>\n",
       "      <td>1</td>\n",
       "      <td>3</td>\n",
       "      <td>-152</td>\n",
       "    </tr>\n",
       "    <tr>\n",
       "      <th>110402</th>\n",
       "      <td>5.38725685118e+13</td>\n",
       "      <td>5674212</td>\n",
       "      <td>M</td>\n",
       "      <td>2016-09-05</td>\n",
       "      <td>2016-07-06</td>\n",
       "      <td>38</td>\n",
       "      <td>RESISTÊNCIA</td>\n",
       "      <td>0</td>\n",
       "      <td>0</td>\n",
       "      <td>0</td>\n",
       "      <td>0</td>\n",
       "      <td>0</td>\n",
       "      <td>1</td>\n",
       "      <td>1</td>\n",
       "      <td>3</td>\n",
       "      <td>-61</td>\n",
       "    </tr>\n",
       "    <tr>\n",
       "      <th>110406</th>\n",
       "      <td>3.54455748929e+13</td>\n",
       "      <td>5691872</td>\n",
       "      <td>M</td>\n",
       "      <td>2016-12-05</td>\n",
       "      <td>2016-06-06</td>\n",
       "      <td>36</td>\n",
       "      <td>RESISTÊNCIA</td>\n",
       "      <td>0</td>\n",
       "      <td>0</td>\n",
       "      <td>0</td>\n",
       "      <td>0</td>\n",
       "      <td>0</td>\n",
       "      <td>1</td>\n",
       "      <td>0</td>\n",
       "      <td>1</td>\n",
       "      <td>-182</td>\n",
       "    </tr>\n",
       "    <tr>\n",
       "      <th>110417</th>\n",
       "      <td>2.93414135795e+12</td>\n",
       "      <td>5574039</td>\n",
       "      <td>F</td>\n",
       "      <td>2016-12-04</td>\n",
       "      <td>2016-06-06</td>\n",
       "      <td>41</td>\n",
       "      <td>RESISTÊNCIA</td>\n",
       "      <td>0</td>\n",
       "      <td>0</td>\n",
       "      <td>0</td>\n",
       "      <td>0</td>\n",
       "      <td>0</td>\n",
       "      <td>0</td>\n",
       "      <td>0</td>\n",
       "      <td>1</td>\n",
       "      <td>-181</td>\n",
       "    </tr>\n",
       "    <tr>\n",
       "      <th>110420</th>\n",
       "      <td>2.93414135795e+12</td>\n",
       "      <td>5574038</td>\n",
       "      <td>F</td>\n",
       "      <td>2016-12-04</td>\n",
       "      <td>2016-06-06</td>\n",
       "      <td>41</td>\n",
       "      <td>RESISTÊNCIA</td>\n",
       "      <td>0</td>\n",
       "      <td>0</td>\n",
       "      <td>0</td>\n",
       "      <td>0</td>\n",
       "      <td>0</td>\n",
       "      <td>1</td>\n",
       "      <td>1</td>\n",
       "      <td>1</td>\n",
       "      <td>-181</td>\n",
       "    </tr>\n",
       "    <tr>\n",
       "      <th>110430</th>\n",
       "      <td>4.98616342535e+13</td>\n",
       "      <td>5736999</td>\n",
       "      <td>F</td>\n",
       "      <td>2016-05-25</td>\n",
       "      <td>2016-01-06</td>\n",
       "      <td>57</td>\n",
       "      <td>RESISTÊNCIA</td>\n",
       "      <td>0</td>\n",
       "      <td>0</td>\n",
       "      <td>0</td>\n",
       "      <td>0</td>\n",
       "      <td>0</td>\n",
       "      <td>0</td>\n",
       "      <td>1</td>\n",
       "      <td>3</td>\n",
       "      <td>-140</td>\n",
       "    </tr>\n",
       "    <tr>\n",
       "      <th>110433</th>\n",
       "      <td>5.5299174967e+13</td>\n",
       "      <td>5627262</td>\n",
       "      <td>M</td>\n",
       "      <td>2016-04-27</td>\n",
       "      <td>2016-01-06</td>\n",
       "      <td>63</td>\n",
       "      <td>RESISTÊNCIA</td>\n",
       "      <td>0</td>\n",
       "      <td>0</td>\n",
       "      <td>1</td>\n",
       "      <td>0</td>\n",
       "      <td>0</td>\n",
       "      <td>1</td>\n",
       "      <td>0</td>\n",
       "      <td>3</td>\n",
       "      <td>-112</td>\n",
       "    </tr>\n",
       "    <tr>\n",
       "      <th>110434</th>\n",
       "      <td>5.5299174967e+13</td>\n",
       "      <td>5627263</td>\n",
       "      <td>M</td>\n",
       "      <td>2016-04-27</td>\n",
       "      <td>2016-01-06</td>\n",
       "      <td>63</td>\n",
       "      <td>RESISTÊNCIA</td>\n",
       "      <td>0</td>\n",
       "      <td>0</td>\n",
       "      <td>1</td>\n",
       "      <td>0</td>\n",
       "      <td>0</td>\n",
       "      <td>0</td>\n",
       "      <td>0</td>\n",
       "      <td>3</td>\n",
       "      <td>-112</td>\n",
       "    </tr>\n",
       "    <tr>\n",
       "      <th>110443</th>\n",
       "      <td>5.96696728894e+12</td>\n",
       "      <td>5685693</td>\n",
       "      <td>F</td>\n",
       "      <td>2016-11-05</td>\n",
       "      <td>2016-06-06</td>\n",
       "      <td>38</td>\n",
       "      <td>RESISTÊNCIA</td>\n",
       "      <td>0</td>\n",
       "      <td>0</td>\n",
       "      <td>0</td>\n",
       "      <td>0</td>\n",
       "      <td>0</td>\n",
       "      <td>1</td>\n",
       "      <td>0</td>\n",
       "      <td>1</td>\n",
       "      <td>-152</td>\n",
       "    </tr>\n",
       "    <tr>\n",
       "      <th>110444</th>\n",
       "      <td>6.23822793288e+12</td>\n",
       "      <td>5685689</td>\n",
       "      <td>F</td>\n",
       "      <td>2016-11-05</td>\n",
       "      <td>2016-06-06</td>\n",
       "      <td>13</td>\n",
       "      <td>RESISTÊNCIA</td>\n",
       "      <td>0</td>\n",
       "      <td>0</td>\n",
       "      <td>0</td>\n",
       "      <td>0</td>\n",
       "      <td>0</td>\n",
       "      <td>1</td>\n",
       "      <td>0</td>\n",
       "      <td>1</td>\n",
       "      <td>-152</td>\n",
       "    </tr>\n",
       "    <tr>\n",
       "      <th>110445</th>\n",
       "      <td>6.27211479819e+13</td>\n",
       "      <td>5685681</td>\n",
       "      <td>M</td>\n",
       "      <td>2016-11-05</td>\n",
       "      <td>2016-06-06</td>\n",
       "      <td>6</td>\n",
       "      <td>RESISTÊNCIA</td>\n",
       "      <td>0</td>\n",
       "      <td>0</td>\n",
       "      <td>0</td>\n",
       "      <td>0</td>\n",
       "      <td>0</td>\n",
       "      <td>1</td>\n",
       "      <td>0</td>\n",
       "      <td>1</td>\n",
       "      <td>-152</td>\n",
       "    </tr>\n",
       "    <tr>\n",
       "      <th>110461</th>\n",
       "      <td>3.34624479649e+12</td>\n",
       "      <td>5628114</td>\n",
       "      <td>F</td>\n",
       "      <td>2016-04-27</td>\n",
       "      <td>2016-03-06</td>\n",
       "      <td>13</td>\n",
       "      <td>RESISTÊNCIA</td>\n",
       "      <td>0</td>\n",
       "      <td>0</td>\n",
       "      <td>0</td>\n",
       "      <td>0</td>\n",
       "      <td>0</td>\n",
       "      <td>1</td>\n",
       "      <td>1</td>\n",
       "      <td>7</td>\n",
       "      <td>-52</td>\n",
       "    </tr>\n",
       "    <tr>\n",
       "      <th>110463</th>\n",
       "      <td>8.56786843436e+12</td>\n",
       "      <td>5627377</td>\n",
       "      <td>F</td>\n",
       "      <td>2016-04-27</td>\n",
       "      <td>2016-03-06</td>\n",
       "      <td>20</td>\n",
       "      <td>RESISTÊNCIA</td>\n",
       "      <td>0</td>\n",
       "      <td>0</td>\n",
       "      <td>0</td>\n",
       "      <td>0</td>\n",
       "      <td>0</td>\n",
       "      <td>1</td>\n",
       "      <td>0</td>\n",
       "      <td>7</td>\n",
       "      <td>-52</td>\n",
       "    </tr>\n",
       "    <tr>\n",
       "      <th>110470</th>\n",
       "      <td>4.12593276837e+12</td>\n",
       "      <td>5692391</td>\n",
       "      <td>F</td>\n",
       "      <td>2016-12-05</td>\n",
       "      <td>2016-02-06</td>\n",
       "      <td>26</td>\n",
       "      <td>RESISTÊNCIA</td>\n",
       "      <td>0</td>\n",
       "      <td>0</td>\n",
       "      <td>0</td>\n",
       "      <td>0</td>\n",
       "      <td>0</td>\n",
       "      <td>1</td>\n",
       "      <td>1</td>\n",
       "      <td>6</td>\n",
       "      <td>-303</td>\n",
       "    </tr>\n",
       "    <tr>\n",
       "      <th>110476</th>\n",
       "      <td>9.27875248729e+12</td>\n",
       "      <td>5678369</td>\n",
       "      <td>F</td>\n",
       "      <td>2016-10-05</td>\n",
       "      <td>2016-06-06</td>\n",
       "      <td>80</td>\n",
       "      <td>RESISTÊNCIA</td>\n",
       "      <td>0</td>\n",
       "      <td>1</td>\n",
       "      <td>0</td>\n",
       "      <td>0</td>\n",
       "      <td>0</td>\n",
       "      <td>1</td>\n",
       "      <td>0</td>\n",
       "      <td>1</td>\n",
       "      <td>-121</td>\n",
       "    </tr>\n",
       "    <tr>\n",
       "      <th>110477</th>\n",
       "      <td>2.79849368719e+13</td>\n",
       "      <td>5673472</td>\n",
       "      <td>F</td>\n",
       "      <td>2016-09-05</td>\n",
       "      <td>2016-06-06</td>\n",
       "      <td>67</td>\n",
       "      <td>RESISTÊNCIA</td>\n",
       "      <td>0</td>\n",
       "      <td>0</td>\n",
       "      <td>1</td>\n",
       "      <td>0</td>\n",
       "      <td>0</td>\n",
       "      <td>1</td>\n",
       "      <td>0</td>\n",
       "      <td>1</td>\n",
       "      <td>-91</td>\n",
       "    </tr>\n",
       "    <tr>\n",
       "      <th>110478</th>\n",
       "      <td>5.47849729289e+12</td>\n",
       "      <td>5671780</td>\n",
       "      <td>F</td>\n",
       "      <td>2016-09-05</td>\n",
       "      <td>2016-06-06</td>\n",
       "      <td>27</td>\n",
       "      <td>RESISTÊNCIA</td>\n",
       "      <td>0</td>\n",
       "      <td>0</td>\n",
       "      <td>0</td>\n",
       "      <td>0</td>\n",
       "      <td>0</td>\n",
       "      <td>1</td>\n",
       "      <td>0</td>\n",
       "      <td>1</td>\n",
       "      <td>-91</td>\n",
       "    </tr>\n",
       "    <tr>\n",
       "      <th>110481</th>\n",
       "      <td>438363374339</td>\n",
       "      <td>5685319</td>\n",
       "      <td>F</td>\n",
       "      <td>2016-11-05</td>\n",
       "      <td>2016-06-06</td>\n",
       "      <td>28</td>\n",
       "      <td>RESISTÊNCIA</td>\n",
       "      <td>0</td>\n",
       "      <td>0</td>\n",
       "      <td>0</td>\n",
       "      <td>0</td>\n",
       "      <td>0</td>\n",
       "      <td>1</td>\n",
       "      <td>0</td>\n",
       "      <td>1</td>\n",
       "      <td>-152</td>\n",
       "    </tr>\n",
       "  </tbody>\n",
       "</table>\n",
       "<p>22676 rows × 16 columns</p>\n",
       "</div>"
      ],
      "text/plain": [
       "                PatientId AppointmentId Gender ScheduledDay AppointmentDay  \\\n",
       "68      5.43417573869e+12       5552915      F   2016-06-04     2016-04-29   \n",
       "69           793821379148       5552917      F   2016-06-04     2016-04-29   \n",
       "70      6.71448948558e+13       5552914      M   2016-06-04     2016-04-29   \n",
       "71      1.84631773862e+12       5552936      F   2016-06-04     2016-04-29   \n",
       "73      4.54213161295e+13       5552934      F   2016-06-04     2016-04-29   \n",
       "97      5.25334248884e+12       5565493      F   2016-11-04     2016-04-29   \n",
       "98      3.72596436557e+14       5571906      F   2016-12-04     2016-04-29   \n",
       "100     1.66338799399e+14       5574764      F   2016-12-04     2016-04-29   \n",
       "109     1.29598834359e+14       5572081      F   2016-12-04     2016-04-29   \n",
       "110     3.73742973241e+12       5574527      F   2016-12-04     2016-04-29   \n",
       "111          377242196277       5574534      F   2016-12-04     2016-04-29   \n",
       "116     4.67333544638e+12       5574680      F   2016-12-04     2016-04-29   \n",
       "119          329315252114       5546448      F   2016-05-04     2016-04-29   \n",
       "125     9.99721284935e+13       5542592      F   2016-05-04     2016-04-29   \n",
       "127     4.22416586982e+12       5561194      M   2016-08-04     2016-04-29   \n",
       "128     9.48869664473e+14       5571842      F   2016-12-04     2016-04-29   \n",
       "129     5.53736675257e+13       5560735      F   2016-08-04     2016-04-29   \n",
       "132     8.46858655833e+14       5560742      M   2016-08-04     2016-04-29   \n",
       "135     7.61158961667e+12       5560758      M   2016-08-04     2016-04-29   \n",
       "158     5.88494183238e+14       5574391      F   2016-12-04     2016-04-29   \n",
       "159          698885816985       5551288      F   2016-06-04     2016-04-29   \n",
       "160     2.92298681382e+13       5562686      F   2016-08-04     2016-04-29   \n",
       "161     2.54124825762e+14       5543795      F   2016-05-04     2016-04-29   \n",
       "162     3.78518786354e+14       5551523      F   2016-06-04     2016-04-29   \n",
       "165     2.76335241217e+12       5562536      F   2016-08-04     2016-04-29   \n",
       "166     9.66685725944e+12       5557543      F   2016-07-04     2016-04-29   \n",
       "167     9.99894816664e+12       5545692      F   2016-05-04     2016-04-29   \n",
       "169     7.53157769835e+14       5545018      F   2016-05-04     2016-04-29   \n",
       "217     3.86214311513e+13       5555546      F   2016-07-04     2016-04-29   \n",
       "218     8.48584751445e+14       5559082      F   2016-08-04     2016-04-29   \n",
       "...                   ...           ...    ...          ...            ...   \n",
       "110365  1.55285439983e+13       5659360      F   2016-04-05     2016-02-06   \n",
       "110366  4.23482328933e+13       5734960      F   2016-05-24     2016-02-06   \n",
       "110367  8.55881686291e+12       5630270      M   2016-04-27     2016-01-06   \n",
       "110369  8.55881686291e+12       5630269      M   2016-04-27     2016-01-06   \n",
       "110371  2.55863974791e+14       5655443      M   2016-03-05     2016-01-06   \n",
       "110373       333478555717       5655438      M   2016-03-05     2016-01-06   \n",
       "110375  7.18334461223e+12       5640964      F   2016-04-29     2016-01-06   \n",
       "110377       273965733489       5634132      F   2016-04-28     2016-01-06   \n",
       "110379       764561166426       5583030      F   2016-04-14     2016-01-06   \n",
       "110383  2.95727864526e+12       5582577      F   2016-04-14     2016-01-06   \n",
       "110386  2.95727864526e+12       5582576      F   2016-04-14     2016-01-06   \n",
       "110393  8.46193567638e+12       5676527      F   2016-09-05     2016-07-06   \n",
       "110399  9.43712325927e+13       5692938      F   2016-12-05     2016-07-06   \n",
       "110402  5.38725685118e+13       5674212      M   2016-09-05     2016-07-06   \n",
       "110406  3.54455748929e+13       5691872      M   2016-12-05     2016-06-06   \n",
       "110417  2.93414135795e+12       5574039      F   2016-12-04     2016-06-06   \n",
       "110420  2.93414135795e+12       5574038      F   2016-12-04     2016-06-06   \n",
       "110430  4.98616342535e+13       5736999      F   2016-05-25     2016-01-06   \n",
       "110433   5.5299174967e+13       5627262      M   2016-04-27     2016-01-06   \n",
       "110434   5.5299174967e+13       5627263      M   2016-04-27     2016-01-06   \n",
       "110443  5.96696728894e+12       5685693      F   2016-11-05     2016-06-06   \n",
       "110444  6.23822793288e+12       5685689      F   2016-11-05     2016-06-06   \n",
       "110445  6.27211479819e+13       5685681      M   2016-11-05     2016-06-06   \n",
       "110461  3.34624479649e+12       5628114      F   2016-04-27     2016-03-06   \n",
       "110463  8.56786843436e+12       5627377      F   2016-04-27     2016-03-06   \n",
       "110470  4.12593276837e+12       5692391      F   2016-12-05     2016-02-06   \n",
       "110476  9.27875248729e+12       5678369      F   2016-10-05     2016-06-06   \n",
       "110477  2.79849368719e+13       5673472      F   2016-09-05     2016-06-06   \n",
       "110478  5.47849729289e+12       5671780      F   2016-09-05     2016-06-06   \n",
       "110481       438363374339       5685319      F   2016-11-05     2016-06-06   \n",
       "\n",
       "        Age    Neighbourhood  Scholarship  Hypertension  Diabetes  Alcoholism  \\\n",
       "68       69  JARDIM DA PENHA            0             1         0           0   \n",
       "69       58      SANTO ANDRÉ            0             0         0           0   \n",
       "70       62     SOLON BORGES            0             0         0           0   \n",
       "71       30           BONFIM            1             0         0           0   \n",
       "73       68        REPÚBLICA            0             1         1           0   \n",
       "97       35           BONFIM            0             0         0           0   \n",
       "98       51           BONFIM            0             0         0           0   \n",
       "100      20           BONFIM            0             0         0           0   \n",
       "109      34    SANTO ANTÔNIO            0             0         0           0   \n",
       "110      34    SANTO ANTÔNIO            0             0         0           0   \n",
       "111      56    SANTO ANTÔNIO            0             1         0           0   \n",
       "116      18    SANTO ANTÔNIO            0             0         0           0   \n",
       "119      33   MÁRIO CYPRESTE            0             0         0           0   \n",
       "125      36   MÁRIO CYPRESTE            0             1         0           0   \n",
       "127      42     PRAIA DO SUÁ            0             1         1           0   \n",
       "128      34     PRAIA DO SUÁ            1             0         0           0   \n",
       "129      22     PRAIA DO SUÁ            0             0         0           0   \n",
       "132       0     PRAIA DO SUÁ            0             0         0           0   \n",
       "135      30     PRAIA DO SUÁ            0             0         0           0   \n",
       "158      45           BONFIM            0             0         0           0   \n",
       "159      71       ANDORINHAS            0             1         1           0   \n",
       "160      58           BONFIM            0             0         0           0   \n",
       "161      38           BONFIM            0             0         0           0   \n",
       "162      44           BONFIM            1             1         0           0   \n",
       "165      39           BONFIM            1             0         0           0   \n",
       "166      42           BONFIM            1             0         0           0   \n",
       "167      35           BONFIM            0             0         0           0   \n",
       "169      50           BONFIM            1             0         0           0   \n",
       "217      75       ANDORINHAS            0             1         0           0   \n",
       "218      59       ANDORINHAS            0             1         0           0   \n",
       "...     ...              ...          ...           ...       ...         ...   \n",
       "110365    4      RESISTÊNCIA            0             0         0           0   \n",
       "110366   58      RESISTÊNCIA            0             0         0           0   \n",
       "110367    4      RESISTÊNCIA            0             0         0           0   \n",
       "110369    4      RESISTÊNCIA            0             0         0           0   \n",
       "110371   38      RESISTÊNCIA            0             0         0           0   \n",
       "110373    8      RESISTÊNCIA            0             0         0           0   \n",
       "110375   19      RESISTÊNCIA            0             0         0           0   \n",
       "110377   19      RESISTÊNCIA            0             0         0           0   \n",
       "110379   16      RESISTÊNCIA            0             0         0           0   \n",
       "110383   48      RESISTÊNCIA            0             1         0           0   \n",
       "110386   48      RESISTÊNCIA            0             1         0           0   \n",
       "110393   52      RESISTÊNCIA            0             0         0           0   \n",
       "110399   17      RESISTÊNCIA            0             1         0           0   \n",
       "110402   38      RESISTÊNCIA            0             0         0           0   \n",
       "110406   36      RESISTÊNCIA            0             0         0           0   \n",
       "110417   41      RESISTÊNCIA            0             0         0           0   \n",
       "110420   41      RESISTÊNCIA            0             0         0           0   \n",
       "110430   57      RESISTÊNCIA            0             0         0           0   \n",
       "110433   63      RESISTÊNCIA            0             0         1           0   \n",
       "110434   63      RESISTÊNCIA            0             0         1           0   \n",
       "110443   38      RESISTÊNCIA            0             0         0           0   \n",
       "110444   13      RESISTÊNCIA            0             0         0           0   \n",
       "110445    6      RESISTÊNCIA            0             0         0           0   \n",
       "110461   13      RESISTÊNCIA            0             0         0           0   \n",
       "110463   20      RESISTÊNCIA            0             0         0           0   \n",
       "110470   26      RESISTÊNCIA            0             0         0           0   \n",
       "110476   80      RESISTÊNCIA            0             1         0           0   \n",
       "110477   67      RESISTÊNCIA            0             0         1           0   \n",
       "110478   27      RESISTÊNCIA            0             0         0           0   \n",
       "110481   28      RESISTÊNCIA            0             0         0           0   \n",
       "\n",
       "        Handicap  SMS_received  No_show  Weekday  Elapsed_time  \n",
       "68             0             1        0        5           -36  \n",
       "69             0             1        0        5           -36  \n",
       "70             0             0        0        5           -36  \n",
       "71             0             1        0        5           -36  \n",
       "73             0             1        0        5           -36  \n",
       "97             0             1        0        5          -189  \n",
       "98             0             1        0        5          -219  \n",
       "100            0             1        0        5          -219  \n",
       "109            0             1        0        5          -219  \n",
       "110            0             1        0        5          -219  \n",
       "111            0             1        0        5          -219  \n",
       "116            0             1        1        5          -219  \n",
       "119            0             1        0        5            -5  \n",
       "125            0             1        0        5            -5  \n",
       "127            0             1        0        5           -97  \n",
       "128            0             1        1        5          -219  \n",
       "129            0             1        1        5           -97  \n",
       "132            0             1        1        5           -97  \n",
       "135            0             1        1        5           -97  \n",
       "158            0             1        0        5          -219  \n",
       "159            0             1        0        5           -36  \n",
       "160            0             0        0        5           -97  \n",
       "161            0             1        1        5            -5  \n",
       "162            0             1        0        5           -36  \n",
       "165            0             1        0        5           -97  \n",
       "166            0             1        1        5           -66  \n",
       "167            0             1        1        5            -5  \n",
       "169            0             1        0        5            -5  \n",
       "217            0             1        0        5           -66  \n",
       "218            0             1        0        5           -97  \n",
       "...          ...           ...      ...      ...           ...  \n",
       "110365         0             1        1        6           -59  \n",
       "110366         0             1        0        6          -108  \n",
       "110367         0             0        0        3          -112  \n",
       "110369         0             1        0        3          -112  \n",
       "110371         0             1        1        3           -59  \n",
       "110373         0             1        1        3           -59  \n",
       "110375         0             1        0        3          -114  \n",
       "110377         0             1        1        3          -113  \n",
       "110379         0             1        1        3           -99  \n",
       "110383         0             0        1        3           -99  \n",
       "110386         0             1        1        3           -99  \n",
       "110393         0             1        0        3           -61  \n",
       "110399         0             1        1        3          -152  \n",
       "110402         0             1        1        3           -61  \n",
       "110406         0             1        0        1          -182  \n",
       "110417         0             0        0        1          -181  \n",
       "110420         0             1        1        1          -181  \n",
       "110430         0             0        1        3          -140  \n",
       "110433         0             1        0        3          -112  \n",
       "110434         0             0        0        3          -112  \n",
       "110443         0             1        0        1          -152  \n",
       "110444         0             1        0        1          -152  \n",
       "110445         0             1        0        1          -152  \n",
       "110461         0             1        1        7           -52  \n",
       "110463         0             1        0        7           -52  \n",
       "110470         0             1        1        6          -303  \n",
       "110476         0             1        0        1          -121  \n",
       "110477         0             1        0        1           -91  \n",
       "110478         0             1        0        1           -91  \n",
       "110481         0             1        0        1          -152  \n",
       "\n",
       "[22676 rows x 16 columns]"
      ]
     },
     "execution_count": 43,
     "metadata": {},
     "output_type": "execute_result"
    }
   ],
   "source": [
    "df.query('Elapsed_time < 0')"
   ]
  },
  {
   "cell_type": "markdown",
   "metadata": {},
   "source": [
    "There are too many negavite values in *Elapsed_time* column which does not make sense, because we expect the scheduling day being before appointment day. So, I will drop these negavite values.\n",
    "There are very high numbers in this column as well. I will drop them, too. Because it does not seem right having that much difference in two dates."
   ]
  },
  {
   "cell_type": "code",
   "execution_count": 44,
   "metadata": {
    "scrolled": false
   },
   "outputs": [],
   "source": [
    "#Drop the rows with the negative values in Elapsed_time\n",
    "time_between_df = df.drop(df.index[df['Elapsed_time'] < 0])\n",
    "\n",
    "#Drop the rows with values higher than 100 in Elapsed_time\n",
    "time_between_df = time_between_df.drop(time_between_df.index[time_between_df['Elapsed_time'] > 100])\n"
   ]
  },
  {
   "cell_type": "markdown",
   "metadata": {},
   "source": [
    "#### Line Plot"
   ]
  },
  {
   "cell_type": "code",
   "execution_count": 45,
   "metadata": {},
   "outputs": [
    {
     "data": {
      "image/png": "[encoded data removed]",
      "text/plain": [
       "<matplotlib.figure.Figure at 0x7fdffc213be0>"
      ]
     },
     "metadata": {},
     "output_type": "display_data"
    }
   ],
   "source": [
    "time_between_df[['No_show', 'Elapsed_time']].groupby('Elapsed_time').mean().plot(kind='line', figsize=(15,5));\n",
    "plt.title(\"Effect of the time difference between scheluded and appointment days on not showing up\");\n",
    "plt.xlabel('Days Between Scheduled Day and Appointment Day');\n",
    "plt.ylabel('Probability of not showing up');"
   ]
  },
  {
   "cell_type": "markdown",
   "metadata": {},
   "source": [
    "#### Scatter Plot"
   ]
  },
  {
   "cell_type": "code",
   "execution_count": 46,
   "metadata": {},
   "outputs": [
    {
     "name": "stdout",
     "output_type": "stream",
     "text": [
      "The age with the lowest not showing up probability is 95 \n",
      "The age with the highest not showing up probability is 98 \n"
     ]
    },
    {
     "data": {
      "image/png": "[encoded data removed]",
      "text/plain": [
       "<matplotlib.figure.Figure at 0x7fdffbb3ada0>"
      ]
     },
     "metadata": {},
     "output_type": "display_data"
    }
   ],
   "source": [
    "sb.lmplot(data = prob_no_show(time_between_df, 'Elapsed_time'), x = 'Elapsed_time', y = 'prob_no_show', fit_reg = True, size =6);\n",
    "plt.title('Probability of Missing Appointments wrt Elapsed Time');\n",
    "plt.ylabel('Probability of not showing up');\n"
   ]
  },
  {
   "cell_type": "markdown",
   "metadata": {},
   "source": [
    "The probability of not showing is very close to 0 when the day difference is 0. It is getting higher when the difference increases but it is fluctuates mostly between the probability 0.2 & 0.6 and it is even zero when the time difference is close to 100. So there cannot be found a clear analysis but we an infer that when the time difference is close to zero patients do not miss their appointment."
   ]
  },
  {
   "cell_type": "markdown",
   "metadata": {},
   "source": [
    "<a id='conclusions'></a>\n",
    "## Conclusions\n",
    "- Overall, 20 percent of the patients missed their appointments.\n",
    "- There is a negative trend between Age and probability of not showing up. So, age is an important factor in order to predict if a patient will show up for their scheduled appointment.\n",
    "- There is not much difference between the behavior of females and males.\n",
    "- Surprisingly, receiving SMS affects showing up in a negative way. Females who got SMS are more likely to miss their appointments. \n",
    "- Enrolling in the welfare program also has a negative effect on showing up and females who enrolled in welfare program are less likely to attend their appointments.\n",
    "- In general, approximately 20 percent of the patients with a diagnosis showed up to their appointments. Females with alcholism has the highest rating of not showing up ( approximately 0.25).\n",
    "- The probability of not showing up is increasing with handicap level except the patients with no handicap.\n",
    "- The number of appointments is decreasing from Monday to Sunday. The probability of missing an appointment is highest on Friday and lowest on Saturday, but there is no trend.\n",
    "- The time difference between the scheduled and appointment days is not a good predictor of showing up.\n",
    "\n",
    "### Limitations\n",
    "- Time span is only for 6 months and the appointments are restricted to unique 27 days so I don't think it is enough in order to make a trustable analysis. Also, seasonality might be good predictor for show up rates.\n",
    "- We only have three diagnosis, adding more dieaseses into the data could help us to have a better understanding on showing up behavior.\n",
    "- There are lots of negavite values in *Elapsed_time* column. This means that appointment day is before the scheduled day which is not possible. There might be a mistake in the data set and should be corrected to have a better analysis."
   ]
  },
  {
   "cell_type": "code",
   "execution_count": 47,
   "metadata": {},
   "outputs": [
    {
     "data": {
      "text/plain": [
       "0"
      ]
     },
     "execution_count": 47,
     "metadata": {},
     "output_type": "execute_result"
    }
   ],
   "source": [
    "from subprocess import call\n",
    "call(['python', '-m', 'nbconvert', 'no_show_appointments.ipynb'])"
   ]
  },
  {
   "cell_type": "code",
   "execution_count": null,
   "metadata": {},
   "outputs": [],
   "source": []
  }
 ],
 "metadata": {
  "kernelspec": {
   "display_name": "Python 3",
   "language": "python",
   "name": "python3"
  },
  "language_info": {
   "codemirror_mode": {
    "name": "ipython",
    "version": 3
   },
   "file_extension": ".py",
   "mimetype": "text/x-python",
   "name": "python",
   "nbconvert_exporter": "python",
   "pygments_lexer": "ipython3",
   "version": "3.6.3"
  }
 },
 "nbformat": 4,
 "nbformat_minor": 2
}
